{
  "cells": [
    {
      "cell_type": "markdown",
      "id": "g5QkzS-q8YlP",
      "metadata": {
        "id": "g5QkzS-q8YlP"
      },
      "source": [
        "# Data Reduction (archival)\n",
        "\n",
        "This tutorial will guide you through the process of finding, downloading, and reducing data from the Mikulski Archive for Space Telescopes (MAST) to create science-ready light curves. We'll primarily use the `lightkurve` Python package, a powerful tool for working with space telescope data like TESS, Kepler, and K2.\n",
        "\n",
        "**Goal:** By the end of this tutorial, you'll be able to search for space telescope data, download it, perform basic reduction steps (like cleaning and normalization), and generate a light curve ready for analysis (e.g., searching for exoplanet transits or stellar variability).\n",
        "\n",
        "**Environment:** This notebook is designed to work well in online Python IDEs like Google Colab or MS Visual Studio Code with a Python kernel."
      ]
    },
    {
      "cell_type": "markdown",
      "id": "krZZxpJY8YlS",
      "metadata": {
        "id": "krZZxpJY8YlS"
      },
      "source": [
        "## Introduction to MAST and Lightkurve\n",
        "\n",
        "### What is MAST?\n",
        "The **Mikulski Archive for Space Telescopes (MAST)** is NASA's primary archive for optical and ultraviolet astronomical data, with a strong focus on exoplanet-finding missions. It hosts data from missions like:\n",
        "* **TESS (Transiting Exoplanet Survey Satellite):** Currently surveying most of the sky for nearby transiting exoplanets.\n",
        "* **Kepler/K2:** Famous for discovering thousands of exoplanets using the transit method.\n",
        "* Hubble Space Telescope (HST), GALEX, and others.\n",
        "\n",
        "You can explore MAST visually via its portal: [https://mast.stsci.edu](https://mast.stsci.edu)\n",
        "\n",
        "### What is Lightkurve?\n",
        "**Lightkurve** is an open-source Python package designed to simplify the analysis of time-series astronomical data, especially from NASA's TESS, Kepler, and K2 missions. It provides tools for searching, downloading, processing, and plotting light curves and target pixel files (TPFs).\n",
        "\n",
        "Official documentation: [https://docs.lightkurve.org](https://docs.lightkurve.org)"
      ]
    },
    {
      "cell_type": "markdown",
      "id": "X02DUtvo8YlS",
      "metadata": {
        "id": "X02DUtvo8YlS"
      },
      "source": [
        "## Setting up Your Python Environment\n",
        "\n",
        "To use `lightkurve`, you'll need Python and several packages including `astropy`, `numpy`, and `matplotlib`. The easiest way to install `lightkurve` and its dependencies is using `pip`. If you are in an environment like Google Colab, this command will install it into your current session.\n",
        "\n",
        "```python\n",
        "!pip install lightkurve\n",
        "```"
      ]
    },
    {
      "cell_type": "markdown",
      "id": "2aBz2Gyq8YlT",
      "metadata": {
        "id": "2aBz2Gyq8YlT"
      },
      "source": [
        "Now, let's import `lightkurve` and other useful packages."
      ]
    },
    {
      "cell_type": "code",
      "execution_count": 1,
      "id": "8lBXE5Wp8YlT",
      "metadata": {
        "id": "8lBXE5Wp8YlT"
      },
      "outputs": [],
      "source": [
        "import lightkurve as lk\n",
        "import numpy as np\n",
        "import matplotlib.pyplot as plt\n",
        "\n",
        "%matplotlib inline\n",
        "# This ensures plots appear inline in Jupyter notebooks"
      ]
    },
    {
      "cell_type": "markdown",
      "id": "pCJS4_rR8YlU",
      "metadata": {
        "id": "pCJS4_rR8YlU"
      },
      "source": [
        "## Searching for Data on MAST\n",
        "\n",
        "`lightkurve` allows you to search for data programmatically. You can search by target name, mission-specific ID (like TIC for TESS, KIC for Kepler, EPIC for K2), or coordinates.\n",
        "\n",
        "Let's search for data for the star **TOI 700**, a star known to host exoplanets, including one in the habitable zone (TOI 700 d), observed by TESS. Its TESS Input Catalog (TIC) ID is 150428135."
      ]
    },
    {
      "cell_type": "code",
      "execution_count": 2,
      "id": "EBUuHkck8YlU",
      "metadata": {
        "id": "EBUuHkck8YlU"
      },
      "outputs": [
        {
          "data": {
            "text/html": [
              "SearchResult containing 158 data products.\n",
              "\n",
              "<table id=\"table124436877058448\">\n",
              "<thead><tr><th>#</th><th>mission</th><th>year</th><th>author</th><th>exptime</th><th>target_name</th><th>distance</th></tr></thead>\n",
              "<thead><tr><th></th><th></th><th></th><th></th><th>s</th><th></th><th>arcsec</th></tr></thead>\n",
              "<tr><td>0</td><td>TESS Sector</td><td>2018</td><td>DIAMANTE</td><td>1800</td><td>150428135</td><td>0.0</td></tr>\n",
              "<tr><td>1</td><td>TESS Sector 01</td><td>2018</td><td><a href='https://heasarc.gsfc.nasa.gov/docs/tess/pipeline.html'>SPOC</a></td><td>120</td><td>150428135</td><td>0.0</td></tr>\n",
              "<tr><td>2</td><td>TESS Sector 01</td><td>2018</td><td><a href='https://archive.stsci.edu/hlsp/tess-spoc'>TESS-SPOC</a></td><td>1800</td><td>150428135</td><td>0.0</td></tr>\n",
              "<tr><td>3</td><td>TESS Sector 01</td><td>2018</td><td><a href='https://archive.stsci.edu/hlsp/qlp'>QLP</a></td><td>1800</td><td>150428135</td><td>0.0</td></tr>\n",
              "<tr><td>4</td><td>TESS Sector 01</td><td>2018</td><td><a href='https://archive.stsci.edu/hlsp/tasoc'>TASOC</a></td><td>120</td><td>150428135</td><td>0.0</td></tr>\n",
              "<tr><td>5</td><td>TESS Sector 01</td><td>2018</td><td><a href='https://archive.stsci.edu/hlsp/tglc'>TGLC</a></td><td>1800</td><td>150428135</td><td>0.0</td></tr>\n",
              "<tr><td>6</td><td>TESS Sector 01</td><td>2018</td><td><a href='https://archive.stsci.edu/hlsp/tasoc'>TASOC</a></td><td>1800</td><td>150428135</td><td>0.0</td></tr>\n",
              "<tr><td>7</td><td>TESS Sector 01</td><td>2018</td><td><a href='https://archive.stsci.edu/hlsp/tasoc'>TASOC</a></td><td>1800</td><td>150428135</td><td>0.0</td></tr>\n",
              "<tr><td>8</td><td>TESS Sector 01</td><td>2018</td><td><a href='https://archive.stsci.edu/hlsp/gsfc-eleanor-lite'>GSFC-ELEANOR-LITE</a></td><td>1800</td><td>150428135</td><td>0.0</td></tr>\n",
              "<tr><td>9</td><td>TESS Sector 01</td><td>2018</td><td>T16</td><td>1800</td><td>150428135</td><td>0.0</td></tr>\n",
              "<tr><td>...</td><td>...</td><td>...</td><td>...</td><td>...</td><td>...</td><td>...</td></tr>\n",
              "<tr><td>148</td><td>TESS Sector 87</td><td>2024</td><td><a href='https://archive.stsci.edu/hlsp/qlp'>QLP</a></td><td>200</td><td>150428135</td><td>0.0</td></tr>\n",
              "<tr><td>149</td><td>TESS Sector 88</td><td>2025</td><td><a href='https://heasarc.gsfc.nasa.gov/docs/tess/pipeline.html'>SPOC</a></td><td>20</td><td>150428135</td><td>0.0</td></tr>\n",
              "<tr><td>150</td><td>TESS Sector 88</td><td>2025</td><td><a href='https://heasarc.gsfc.nasa.gov/docs/tess/pipeline.html'>SPOC</a></td><td>120</td><td>150428135</td><td>0.0</td></tr>\n",
              "<tr><td>151</td><td>TESS Sector 88</td><td>2025</td><td><a href='https://archive.stsci.edu/hlsp/qlp'>QLP</a></td><td>200</td><td>150428135</td><td>0.0</td></tr>\n",
              "<tr><td>152</td><td>TESS Sector 89</td><td>2025</td><td><a href='https://heasarc.gsfc.nasa.gov/docs/tess/pipeline.html'>SPOC</a></td><td>20</td><td>150428135</td><td>0.0</td></tr>\n",
              "<tr><td>153</td><td>TESS Sector 89</td><td>2025</td><td><a href='https://heasarc.gsfc.nasa.gov/docs/tess/pipeline.html'>SPOC</a></td><td>120</td><td>150428135</td><td>0.0</td></tr>\n",
              "<tr><td>154</td><td>TESS Sector 89</td><td>2025</td><td><a href='https://archive.stsci.edu/hlsp/qlp'>QLP</a></td><td>200</td><td>150428135</td><td>0.0</td></tr>\n",
              "<tr><td>155</td><td>TESS Sector 90</td><td>2025</td><td><a href='https://heasarc.gsfc.nasa.gov/docs/tess/pipeline.html'>SPOC</a></td><td>20</td><td>150428135</td><td>0.0</td></tr>\n",
              "<tr><td>156</td><td>TESS Sector 90</td><td>2025</td><td><a href='https://heasarc.gsfc.nasa.gov/docs/tess/pipeline.html'>SPOC</a></td><td>120</td><td>150428135</td><td>0.0</td></tr>\n",
              "<tr><td>157</td><td>TESS Sector 90</td><td>2025</td><td><a href='https://archive.stsci.edu/hlsp/qlp'>QLP</a></td><td>200</td><td>150428135</td><td>0.0</td></tr>\n",
              "</table>\n",
              "Length = 158 rows"
            ],
            "text/plain": [
              "SearchResult containing 158 data products.\n",
              "\n",
              " #     mission     year       author      exptime target_name distance\n",
              "                                             s                 arcsec \n",
              "--- -------------- ---- ----------------- ------- ----------- --------\n",
              "  0   TESS Sector  2018          DIAMANTE    1800   150428135      0.0\n",
              "  1 TESS Sector 01 2018              SPOC     120   150428135      0.0\n",
              "  2 TESS Sector 01 2018         TESS-SPOC    1800   150428135      0.0\n",
              "  3 TESS Sector 01 2018               QLP    1800   150428135      0.0\n",
              "  4 TESS Sector 01 2018             TASOC     120   150428135      0.0\n",
              "  5 TESS Sector 01 2018              TGLC    1800   150428135      0.0\n",
              "  6 TESS Sector 01 2018             TASOC    1800   150428135      0.0\n",
              "  7 TESS Sector 01 2018             TASOC    1800   150428135      0.0\n",
              "  8 TESS Sector 01 2018 GSFC-ELEANOR-LITE    1800   150428135      0.0\n",
              "  9 TESS Sector 01 2018               T16    1800   150428135      0.0\n",
              "...            ...  ...               ...     ...         ...      ...\n",
              "148 TESS Sector 87 2024               QLP     200   150428135      0.0\n",
              "149 TESS Sector 88 2025              SPOC      20   150428135      0.0\n",
              "150 TESS Sector 88 2025              SPOC     120   150428135      0.0\n",
              "151 TESS Sector 88 2025               QLP     200   150428135      0.0\n",
              "152 TESS Sector 89 2025              SPOC      20   150428135      0.0\n",
              "153 TESS Sector 89 2025              SPOC     120   150428135      0.0\n",
              "154 TESS Sector 89 2025               QLP     200   150428135      0.0\n",
              "155 TESS Sector 90 2025              SPOC      20   150428135      0.0\n",
              "156 TESS Sector 90 2025              SPOC     120   150428135      0.0\n",
              "157 TESS Sector 90 2025               QLP     200   150428135      0.0\n",
              "Length = 158 rows"
            ]
          },
          "execution_count": 2,
          "metadata": {},
          "output_type": "execute_result"
        }
      ],
      "source": [
        "target_star = \"TOI 700\"\n",
        "# You can also use target_star = \"TIC 150428135\"\n",
        "# Or for Kepler: target_star = \"KIC 8462852\" (Boyajian's Star)\n",
        "# Or for K2: target_star = \"EPIC 201367065\"\n",
        "\n",
        "search_result = lk.search_lightcurve(target_star)\n",
        "search_result # Display the search results as a table"
      ]
    },
    {
      "cell_type": "markdown",
      "id": "csjr7Jv_8YlU",
      "metadata": {
        "id": "csjr7Jv_8YlU"
      },
      "source": [
        "The `search_result` object is a table listing all available light curve products for your target. It includes information like the mission, sector/quarter/campaign, author (pipeline), and an observation ID.\n",
        "\n",
        "You can filter these results. For example, if you only want TESS data:"
      ]
    },
    {
      "cell_type": "code",
      "execution_count": 3,
      "id": "VYh-iL2p8YlV",
      "metadata": {
        "id": "VYh-iL2p8YlV"
      },
      "outputs": [
        {
          "data": {
            "text/html": [
              "SearchResult containing 158 data products.\n",
              "\n",
              "<table id=\"table124436890764304\">\n",
              "<thead><tr><th>#</th><th>mission</th><th>year</th><th>author</th><th>exptime</th><th>target_name</th><th>distance</th></tr></thead>\n",
              "<thead><tr><th></th><th></th><th></th><th></th><th>s</th><th></th><th>arcsec</th></tr></thead>\n",
              "<tr><td>0</td><td>TESS Sector</td><td>2018</td><td>DIAMANTE</td><td>1800</td><td>150428135</td><td>0.0</td></tr>\n",
              "<tr><td>1</td><td>TESS Sector 01</td><td>2018</td><td><a href='https://heasarc.gsfc.nasa.gov/docs/tess/pipeline.html'>SPOC</a></td><td>120</td><td>150428135</td><td>0.0</td></tr>\n",
              "<tr><td>2</td><td>TESS Sector 01</td><td>2018</td><td><a href='https://archive.stsci.edu/hlsp/tess-spoc'>TESS-SPOC</a></td><td>1800</td><td>150428135</td><td>0.0</td></tr>\n",
              "<tr><td>3</td><td>TESS Sector 01</td><td>2018</td><td><a href='https://archive.stsci.edu/hlsp/qlp'>QLP</a></td><td>1800</td><td>150428135</td><td>0.0</td></tr>\n",
              "<tr><td>4</td><td>TESS Sector 01</td><td>2018</td><td><a href='https://archive.stsci.edu/hlsp/tasoc'>TASOC</a></td><td>120</td><td>150428135</td><td>0.0</td></tr>\n",
              "<tr><td>5</td><td>TESS Sector 01</td><td>2018</td><td><a href='https://archive.stsci.edu/hlsp/tglc'>TGLC</a></td><td>1800</td><td>150428135</td><td>0.0</td></tr>\n",
              "<tr><td>6</td><td>TESS Sector 01</td><td>2018</td><td><a href='https://archive.stsci.edu/hlsp/tasoc'>TASOC</a></td><td>1800</td><td>150428135</td><td>0.0</td></tr>\n",
              "<tr><td>7</td><td>TESS Sector 01</td><td>2018</td><td><a href='https://archive.stsci.edu/hlsp/tasoc'>TASOC</a></td><td>1800</td><td>150428135</td><td>0.0</td></tr>\n",
              "<tr><td>8</td><td>TESS Sector 01</td><td>2018</td><td><a href='https://archive.stsci.edu/hlsp/gsfc-eleanor-lite'>GSFC-ELEANOR-LITE</a></td><td>1800</td><td>150428135</td><td>0.0</td></tr>\n",
              "<tr><td>9</td><td>TESS Sector 01</td><td>2018</td><td>T16</td><td>1800</td><td>150428135</td><td>0.0</td></tr>\n",
              "<tr><td>...</td><td>...</td><td>...</td><td>...</td><td>...</td><td>...</td><td>...</td></tr>\n",
              "<tr><td>148</td><td>TESS Sector 87</td><td>2024</td><td><a href='https://archive.stsci.edu/hlsp/qlp'>QLP</a></td><td>200</td><td>150428135</td><td>0.0</td></tr>\n",
              "<tr><td>149</td><td>TESS Sector 88</td><td>2025</td><td><a href='https://heasarc.gsfc.nasa.gov/docs/tess/pipeline.html'>SPOC</a></td><td>20</td><td>150428135</td><td>0.0</td></tr>\n",
              "<tr><td>150</td><td>TESS Sector 88</td><td>2025</td><td><a href='https://heasarc.gsfc.nasa.gov/docs/tess/pipeline.html'>SPOC</a></td><td>120</td><td>150428135</td><td>0.0</td></tr>\n",
              "<tr><td>151</td><td>TESS Sector 88</td><td>2025</td><td><a href='https://archive.stsci.edu/hlsp/qlp'>QLP</a></td><td>200</td><td>150428135</td><td>0.0</td></tr>\n",
              "<tr><td>152</td><td>TESS Sector 89</td><td>2025</td><td><a href='https://heasarc.gsfc.nasa.gov/docs/tess/pipeline.html'>SPOC</a></td><td>20</td><td>150428135</td><td>0.0</td></tr>\n",
              "<tr><td>153</td><td>TESS Sector 89</td><td>2025</td><td><a href='https://heasarc.gsfc.nasa.gov/docs/tess/pipeline.html'>SPOC</a></td><td>120</td><td>150428135</td><td>0.0</td></tr>\n",
              "<tr><td>154</td><td>TESS Sector 89</td><td>2025</td><td><a href='https://archive.stsci.edu/hlsp/qlp'>QLP</a></td><td>200</td><td>150428135</td><td>0.0</td></tr>\n",
              "<tr><td>155</td><td>TESS Sector 90</td><td>2025</td><td><a href='https://heasarc.gsfc.nasa.gov/docs/tess/pipeline.html'>SPOC</a></td><td>20</td><td>150428135</td><td>0.0</td></tr>\n",
              "<tr><td>156</td><td>TESS Sector 90</td><td>2025</td><td><a href='https://heasarc.gsfc.nasa.gov/docs/tess/pipeline.html'>SPOC</a></td><td>120</td><td>150428135</td><td>0.0</td></tr>\n",
              "<tr><td>157</td><td>TESS Sector 90</td><td>2025</td><td><a href='https://archive.stsci.edu/hlsp/qlp'>QLP</a></td><td>200</td><td>150428135</td><td>0.0</td></tr>\n",
              "</table>\n",
              "Length = 158 rows"
            ],
            "text/plain": [
              "SearchResult containing 158 data products.\n",
              "\n",
              " #     mission     year       author      exptime target_name distance\n",
              "                                             s                 arcsec \n",
              "--- -------------- ---- ----------------- ------- ----------- --------\n",
              "  0   TESS Sector  2018          DIAMANTE    1800   150428135      0.0\n",
              "  1 TESS Sector 01 2018              SPOC     120   150428135      0.0\n",
              "  2 TESS Sector 01 2018         TESS-SPOC    1800   150428135      0.0\n",
              "  3 TESS Sector 01 2018               QLP    1800   150428135      0.0\n",
              "  4 TESS Sector 01 2018             TASOC     120   150428135      0.0\n",
              "  5 TESS Sector 01 2018              TGLC    1800   150428135      0.0\n",
              "  6 TESS Sector 01 2018             TASOC    1800   150428135      0.0\n",
              "  7 TESS Sector 01 2018             TASOC    1800   150428135      0.0\n",
              "  8 TESS Sector 01 2018 GSFC-ELEANOR-LITE    1800   150428135      0.0\n",
              "  9 TESS Sector 01 2018               T16    1800   150428135      0.0\n",
              "...            ...  ...               ...     ...         ...      ...\n",
              "148 TESS Sector 87 2024               QLP     200   150428135      0.0\n",
              "149 TESS Sector 88 2025              SPOC      20   150428135      0.0\n",
              "150 TESS Sector 88 2025              SPOC     120   150428135      0.0\n",
              "151 TESS Sector 88 2025               QLP     200   150428135      0.0\n",
              "152 TESS Sector 89 2025              SPOC      20   150428135      0.0\n",
              "153 TESS Sector 89 2025              SPOC     120   150428135      0.0\n",
              "154 TESS Sector 89 2025               QLP     200   150428135      0.0\n",
              "155 TESS Sector 90 2025              SPOC      20   150428135      0.0\n",
              "156 TESS Sector 90 2025              SPOC     120   150428135      0.0\n",
              "157 TESS Sector 90 2025               QLP     200   150428135      0.0\n",
              "Length = 158 rows"
            ]
          },
          "execution_count": 3,
          "metadata": {},
          "output_type": "execute_result"
        }
      ],
      "source": [
        "search_tess = lk.search_lightcurve(target_star, mission=\"TESS\")\n",
        "search_tess"
      ]
    },
    {
      "cell_type": "markdown",
      "id": "mYMbfNtF8YlV",
      "metadata": {
        "id": "mYMbfNtF8YlV"
      },
      "source": [
        "You can also search for Target Pixel Files (TPFs), which contain the raw pixel data around your target. This is useful if you want to perform custom photometry."
      ]
    },
    {
      "cell_type": "code",
      "execution_count": 4,
      "id": "RYaWh_qn8YlW",
      "metadata": {
        "id": "RYaWh_qn8YlW"
      },
      "outputs": [
        {
          "data": {
            "text/html": [
              "SearchResult containing 84 data products.\n",
              "\n",
              "<table id=\"table124436890765200\">\n",
              "<thead><tr><th>#</th><th>mission</th><th>year</th><th>author</th><th>exptime</th><th>target_name</th><th>distance</th></tr></thead>\n",
              "<thead><tr><th></th><th></th><th></th><th></th><th>s</th><th></th><th>arcsec</th></tr></thead>\n",
              "<tr><td>0</td><td>TESS Sector 01</td><td>2018</td><td><a href='https://heasarc.gsfc.nasa.gov/docs/tess/pipeline.html'>SPOC</a></td><td>120</td><td>150428135</td><td>0.0</td></tr>\n",
              "<tr><td>1</td><td>TESS Sector 01</td><td>2018</td><td><a href='https://archive.stsci.edu/hlsp/tess-spoc'>TESS-SPOC</a></td><td>1800</td><td>150428135</td><td>0.0</td></tr>\n",
              "<tr><td>2</td><td>TESS Sector 03</td><td>2018</td><td><a href='https://heasarc.gsfc.nasa.gov/docs/tess/pipeline.html'>SPOC</a></td><td>120</td><td>150428135</td><td>0.0</td></tr>\n",
              "<tr><td>3</td><td>TESS Sector 03</td><td>2018</td><td><a href='https://archive.stsci.edu/hlsp/tess-spoc'>TESS-SPOC</a></td><td>1800</td><td>150428135</td><td>0.0</td></tr>\n",
              "<tr><td>4</td><td>TESS Sector 04</td><td>2018</td><td><a href='https://heasarc.gsfc.nasa.gov/docs/tess/pipeline.html'>SPOC</a></td><td>120</td><td>150428135</td><td>0.0</td></tr>\n",
              "<tr><td>5</td><td>TESS Sector 04</td><td>2018</td><td><a href='https://archive.stsci.edu/hlsp/tess-spoc'>TESS-SPOC</a></td><td>1800</td><td>150428135</td><td>0.0</td></tr>\n",
              "<tr><td>6</td><td>TESS Sector 05</td><td>2018</td><td><a href='https://heasarc.gsfc.nasa.gov/docs/tess/pipeline.html'>SPOC</a></td><td>120</td><td>150428135</td><td>0.0</td></tr>\n",
              "<tr><td>7</td><td>TESS Sector 05</td><td>2018</td><td><a href='https://archive.stsci.edu/hlsp/tess-spoc'>TESS-SPOC</a></td><td>1800</td><td>150428135</td><td>0.0</td></tr>\n",
              "<tr><td>8</td><td>TESS Sector 06</td><td>2018</td><td><a href='https://heasarc.gsfc.nasa.gov/docs/tess/pipeline.html'>SPOC</a></td><td>120</td><td>150428135</td><td>0.0</td></tr>\n",
              "<tr><td>9</td><td>TESS Sector 06</td><td>2018</td><td><a href='https://archive.stsci.edu/hlsp/tess-spoc'>TESS-SPOC</a></td><td>1800</td><td>150428135</td><td>0.0</td></tr>\n",
              "<tr><td>...</td><td>...</td><td>...</td><td>...</td><td>...</td><td>...</td><td>...</td></tr>\n",
              "<tr><td>74</td><td>TESS Sector 69</td><td>2023</td><td><a href='https://heasarc.gsfc.nasa.gov/docs/tess/pipeline.html'>SPOC</a></td><td>120</td><td>150428135</td><td>0.0</td></tr>\n",
              "<tr><td>75</td><td>TESS Sector 69</td><td>2023</td><td><a href='https://archive.stsci.edu/hlsp/tess-spoc'>TESS-SPOC</a></td><td>200</td><td>150428135</td><td>0.0</td></tr>\n",
              "<tr><td>76</td><td>TESS Sector 87</td><td>2024</td><td><a href='https://heasarc.gsfc.nasa.gov/docs/tess/pipeline.html'>SPOC</a></td><td>20</td><td>150428135</td><td>0.0</td></tr>\n",
              "<tr><td>77</td><td>TESS Sector 87</td><td>2024</td><td><a href='https://heasarc.gsfc.nasa.gov/docs/tess/pipeline.html'>SPOC</a></td><td>120</td><td>150428135</td><td>0.0</td></tr>\n",
              "<tr><td>78</td><td>TESS Sector 88</td><td>2025</td><td><a href='https://heasarc.gsfc.nasa.gov/docs/tess/pipeline.html'>SPOC</a></td><td>20</td><td>150428135</td><td>0.0</td></tr>\n",
              "<tr><td>79</td><td>TESS Sector 88</td><td>2025</td><td><a href='https://heasarc.gsfc.nasa.gov/docs/tess/pipeline.html'>SPOC</a></td><td>120</td><td>150428135</td><td>0.0</td></tr>\n",
              "<tr><td>80</td><td>TESS Sector 89</td><td>2025</td><td><a href='https://heasarc.gsfc.nasa.gov/docs/tess/pipeline.html'>SPOC</a></td><td>20</td><td>150428135</td><td>0.0</td></tr>\n",
              "<tr><td>81</td><td>TESS Sector 89</td><td>2025</td><td><a href='https://heasarc.gsfc.nasa.gov/docs/tess/pipeline.html'>SPOC</a></td><td>120</td><td>150428135</td><td>0.0</td></tr>\n",
              "<tr><td>82</td><td>TESS Sector 90</td><td>2025</td><td><a href='https://heasarc.gsfc.nasa.gov/docs/tess/pipeline.html'>SPOC</a></td><td>20</td><td>150428135</td><td>0.0</td></tr>\n",
              "<tr><td>83</td><td>TESS Sector 90</td><td>2025</td><td><a href='https://heasarc.gsfc.nasa.gov/docs/tess/pipeline.html'>SPOC</a></td><td>120</td><td>150428135</td><td>0.0</td></tr>\n",
              "</table>\n",
              "Length = 84 rows"
            ],
            "text/plain": [
              "SearchResult containing 84 data products.\n",
              "\n",
              " #     mission     year   author  exptime target_name distance\n",
              "                                     s                 arcsec \n",
              "--- -------------- ---- --------- ------- ----------- --------\n",
              "  0 TESS Sector 01 2018      SPOC     120   150428135      0.0\n",
              "  1 TESS Sector 01 2018 TESS-SPOC    1800   150428135      0.0\n",
              "  2 TESS Sector 03 2018      SPOC     120   150428135      0.0\n",
              "  3 TESS Sector 03 2018 TESS-SPOC    1800   150428135      0.0\n",
              "  4 TESS Sector 04 2018      SPOC     120   150428135      0.0\n",
              "  5 TESS Sector 04 2018 TESS-SPOC    1800   150428135      0.0\n",
              "  6 TESS Sector 05 2018      SPOC     120   150428135      0.0\n",
              "  7 TESS Sector 05 2018 TESS-SPOC    1800   150428135      0.0\n",
              "  8 TESS Sector 06 2018      SPOC     120   150428135      0.0\n",
              "  9 TESS Sector 06 2018 TESS-SPOC    1800   150428135      0.0\n",
              "...            ...  ...       ...     ...         ...      ...\n",
              " 74 TESS Sector 69 2023      SPOC     120   150428135      0.0\n",
              " 75 TESS Sector 69 2023 TESS-SPOC     200   150428135      0.0\n",
              " 76 TESS Sector 87 2024      SPOC      20   150428135      0.0\n",
              " 77 TESS Sector 87 2024      SPOC     120   150428135      0.0\n",
              " 78 TESS Sector 88 2025      SPOC      20   150428135      0.0\n",
              " 79 TESS Sector 88 2025      SPOC     120   150428135      0.0\n",
              " 80 TESS Sector 89 2025      SPOC      20   150428135      0.0\n",
              " 81 TESS Sector 89 2025      SPOC     120   150428135      0.0\n",
              " 82 TESS Sector 90 2025      SPOC      20   150428135      0.0\n",
              " 83 TESS Sector 90 2025      SPOC     120   150428135      0.0\n",
              "Length = 84 rows"
            ]
          },
          "execution_count": 4,
          "metadata": {},
          "output_type": "execute_result"
        }
      ],
      "source": [
        "search_tpf_result = lk.search_targetpixelfile(target_star, mission=\"TESS\")\n",
        "search_tpf_result"
      ]
    },
    {
      "cell_type": "markdown",
      "id": "YkcuzP0T8YlW",
      "metadata": {
        "id": "YkcuzP0T8YlW"
      },
      "source": [
        "## Understanding Data Products and Downloading Data\n",
        "\n",
        "MAST provides several types of data products:\n",
        "* **Light Curve Files (LCFs):** These files contain pre-processed light curves. For TESS and Kepler, common flux types include:\n",
        "    * `SAP_FLUX` (Simple Aperture Photometry): Sum of flux in an optimal aperture. Can be affected by instrument systematics.\n",
        "    * `PDCSAP_FLUX` (Pre-search Data Conditioning SAP Flux): SAP flux corrected for instrumental systematics. This is usually the best starting point for transit searches or stellar variability studies.\n",
        "* **Target Pixel Files (TPFs):** These files contain the time-series of images (pixel data) centered on the target star. You can use TPFs to define your own photometric aperture and extract a light curve.\n",
        "\n",
        "Let's download the available TESS light curves for TOI 700. The `download_all()` method can be used on a search result to get all matching datasets. You can also download specific datasets by indexing the search result."
      ]
    },
    {
      "cell_type": "code",
      "execution_count": 5,
      "id": "bAE3xYPS8YlW",
      "metadata": {
        "id": "bAE3xYPS8YlW"
      },
      "outputs": [
        {
          "name": "stderr",
          "output_type": "stream",
          "text": [
            "Warning: 30% (5871/19412) of the cadences will be ignored due to the quality mask (quality_bitmask=175).\n"
          ]
        },
        {
          "data": {
            "text/plain": [
              "LightCurveCollection of 55 objects:\n",
              "    0: <TessLightCurve LABEL=\"TIC 150428135\" SECTOR=1 AUTHOR=SPOC FLUX_ORIGIN=pdcsap_flux>\n",
              "    1: <TessLightCurve LABEL=\"TIC 150428135\" SECTOR=3 AUTHOR=SPOC FLUX_ORIGIN=pdcsap_flux>\n",
              "    2: <TessLightCurve LABEL=\"TIC 150428135\" SECTOR=4 AUTHOR=SPOC FLUX_ORIGIN=pdcsap_flux>\n",
              "    3: <TessLightCurve LABEL=\"TIC 150428135\" SECTOR=5 AUTHOR=SPOC FLUX_ORIGIN=pdcsap_flux>\n",
              "    4: <TessLightCurve LABEL=\"TIC 150428135\" SECTOR=6 AUTHOR=SPOC FLUX_ORIGIN=pdcsap_flux>\n",
              "    5: <TessLightCurve LABEL=\"TIC 150428135\" SECTOR=7 AUTHOR=SPOC FLUX_ORIGIN=pdcsap_flux>\n",
              "    6: <TessLightCurve LABEL=\"TIC 150428135\" SECTOR=8 AUTHOR=SPOC FLUX_ORIGIN=pdcsap_flux>\n",
              "    7: <TessLightCurve LABEL=\"TIC 150428135\" SECTOR=9 AUTHOR=SPOC FLUX_ORIGIN=pdcsap_flux>\n",
              "    8: <TessLightCurve LABEL=\"TIC 150428135\" SECTOR=10 AUTHOR=SPOC FLUX_ORIGIN=pdcsap_flux>\n",
              "    9: <TessLightCurve LABEL=\"TIC 150428135\" SECTOR=11 AUTHOR=SPOC FLUX_ORIGIN=pdcsap_flux>\n",
              "    10: <TessLightCurve LABEL=\"TIC 150428135\" SECTOR=13 AUTHOR=SPOC FLUX_ORIGIN=pdcsap_flux>\n",
              "    11: <TessLightCurve LABEL=\"TIC 150428135\" SECTOR=27 AUTHOR=SPOC FLUX_ORIGIN=pdcsap_flux>\n",
              "    12: <TessLightCurve LABEL=\"TIC 150428135\" SECTOR=27 AUTHOR=SPOC FLUX_ORIGIN=pdcsap_flux>\n",
              "    13: <TessLightCurve LABEL=\"TIC 150428135\" SECTOR=28 AUTHOR=SPOC FLUX_ORIGIN=pdcsap_flux>\n",
              "    14: <TessLightCurve LABEL=\"TIC 150428135\" SECTOR=28 AUTHOR=SPOC FLUX_ORIGIN=pdcsap_flux>\n",
              "    15: <TessLightCurve LABEL=\"TIC 150428135\" SECTOR=30 AUTHOR=SPOC FLUX_ORIGIN=pdcsap_flux>\n",
              "    16: <TessLightCurve LABEL=\"TIC 150428135\" SECTOR=30 AUTHOR=SPOC FLUX_ORIGIN=pdcsap_flux>\n",
              "    17: <TessLightCurve LABEL=\"TIC 150428135\" SECTOR=31 AUTHOR=SPOC FLUX_ORIGIN=pdcsap_flux>\n",
              "    18: <TessLightCurve LABEL=\"TIC 150428135\" SECTOR=31 AUTHOR=SPOC FLUX_ORIGIN=pdcsap_flux>\n",
              "    19: <TessLightCurve LABEL=\"TIC 150428135\" SECTOR=33 AUTHOR=SPOC FLUX_ORIGIN=pdcsap_flux>\n",
              "    20: <TessLightCurve LABEL=\"TIC 150428135\" SECTOR=33 AUTHOR=SPOC FLUX_ORIGIN=pdcsap_flux>\n",
              "    21: <TessLightCurve LABEL=\"TIC 150428135\" SECTOR=34 AUTHOR=SPOC FLUX_ORIGIN=pdcsap_flux>\n",
              "    22: <TessLightCurve LABEL=\"TIC 150428135\" SECTOR=34 AUTHOR=SPOC FLUX_ORIGIN=pdcsap_flux>\n",
              "    23: <TessLightCurve LABEL=\"TIC 150428135\" SECTOR=35 AUTHOR=SPOC FLUX_ORIGIN=pdcsap_flux>\n",
              "    24: <TessLightCurve LABEL=\"TIC 150428135\" SECTOR=35 AUTHOR=SPOC FLUX_ORIGIN=pdcsap_flux>\n",
              "    25: <TessLightCurve LABEL=\"TIC 150428135\" SECTOR=36 AUTHOR=SPOC FLUX_ORIGIN=pdcsap_flux>\n",
              "    26: <TessLightCurve LABEL=\"TIC 150428135\" SECTOR=36 AUTHOR=SPOC FLUX_ORIGIN=pdcsap_flux>\n",
              "    27: <TessLightCurve LABEL=\"TIC 150428135\" SECTOR=37 AUTHOR=SPOC FLUX_ORIGIN=pdcsap_flux>\n",
              "    28: <TessLightCurve LABEL=\"TIC 150428135\" SECTOR=37 AUTHOR=SPOC FLUX_ORIGIN=pdcsap_flux>\n",
              "    29: <TessLightCurve LABEL=\"TIC 150428135\" SECTOR=38 AUTHOR=SPOC FLUX_ORIGIN=pdcsap_flux>\n",
              "    30: <TessLightCurve LABEL=\"TIC 150428135\" SECTOR=38 AUTHOR=SPOC FLUX_ORIGIN=pdcsap_flux>\n",
              "    31: <TessLightCurve LABEL=\"TIC 150428135\" SECTOR=61 AUTHOR=SPOC FLUX_ORIGIN=pdcsap_flux>\n",
              "    32: <TessLightCurve LABEL=\"TIC 150428135\" SECTOR=61 AUTHOR=SPOC FLUX_ORIGIN=pdcsap_flux>\n",
              "    33: <TessLightCurve LABEL=\"TIC 150428135\" SECTOR=62 AUTHOR=SPOC FLUX_ORIGIN=pdcsap_flux>\n",
              "    34: <TessLightCurve LABEL=\"TIC 150428135\" SECTOR=62 AUTHOR=SPOC FLUX_ORIGIN=pdcsap_flux>\n",
              "    35: <TessLightCurve LABEL=\"TIC 150428135\" SECTOR=63 AUTHOR=SPOC FLUX_ORIGIN=pdcsap_flux>\n",
              "    36: <TessLightCurve LABEL=\"TIC 150428135\" SECTOR=63 AUTHOR=SPOC FLUX_ORIGIN=pdcsap_flux>\n",
              "    37: <TessLightCurve LABEL=\"TIC 150428135\" SECTOR=64 AUTHOR=SPOC FLUX_ORIGIN=pdcsap_flux>\n",
              "    38: <TessLightCurve LABEL=\"TIC 150428135\" SECTOR=64 AUTHOR=SPOC FLUX_ORIGIN=pdcsap_flux>\n",
              "    39: <TessLightCurve LABEL=\"TIC 150428135\" SECTOR=65 AUTHOR=SPOC FLUX_ORIGIN=pdcsap_flux>\n",
              "    40: <TessLightCurve LABEL=\"TIC 150428135\" SECTOR=65 AUTHOR=SPOC FLUX_ORIGIN=pdcsap_flux>\n",
              "    41: <TessLightCurve LABEL=\"TIC 150428135\" SECTOR=66 AUTHOR=SPOC FLUX_ORIGIN=pdcsap_flux>\n",
              "    42: <TessLightCurve LABEL=\"TIC 150428135\" SECTOR=66 AUTHOR=SPOC FLUX_ORIGIN=pdcsap_flux>\n",
              "    43: <TessLightCurve LABEL=\"TIC 150428135\" SECTOR=68 AUTHOR=SPOC FLUX_ORIGIN=pdcsap_flux>\n",
              "    44: <TessLightCurve LABEL=\"TIC 150428135\" SECTOR=68 AUTHOR=SPOC FLUX_ORIGIN=pdcsap_flux>\n",
              "    45: <TessLightCurve LABEL=\"TIC 150428135\" SECTOR=69 AUTHOR=SPOC FLUX_ORIGIN=pdcsap_flux>\n",
              "    46: <TessLightCurve LABEL=\"TIC 150428135\" SECTOR=69 AUTHOR=SPOC FLUX_ORIGIN=pdcsap_flux>\n",
              "    47: <TessLightCurve LABEL=\"TIC 150428135\" SECTOR=87 AUTHOR=SPOC FLUX_ORIGIN=pdcsap_flux>\n",
              "    48: <TessLightCurve LABEL=\"TIC 150428135\" SECTOR=87 AUTHOR=SPOC FLUX_ORIGIN=pdcsap_flux>\n",
              "    49: <TessLightCurve LABEL=\"TIC 150428135\" SECTOR=88 AUTHOR=SPOC FLUX_ORIGIN=pdcsap_flux>\n",
              "    50: <TessLightCurve LABEL=\"TIC 150428135\" SECTOR=88 AUTHOR=SPOC FLUX_ORIGIN=pdcsap_flux>\n",
              "    51: <TessLightCurve LABEL=\"TIC 150428135\" SECTOR=89 AUTHOR=SPOC FLUX_ORIGIN=pdcsap_flux>\n",
              "    52: <TessLightCurve LABEL=\"TIC 150428135\" SECTOR=89 AUTHOR=SPOC FLUX_ORIGIN=pdcsap_flux>\n",
              "    53: <TessLightCurve LABEL=\"TIC 150428135\" SECTOR=90 AUTHOR=SPOC FLUX_ORIGIN=pdcsap_flux>\n",
              "    54: <TessLightCurve LABEL=\"TIC 150428135\" SECTOR=90 AUTHOR=SPOC FLUX_ORIGIN=pdcsap_flux>"
            ]
          },
          "execution_count": 5,
          "metadata": {},
          "output_type": "execute_result"
        }
      ],
      "source": [
        "# Download all TESS light curves for TOI 700 processed by the SPOC pipeline\n",
        "# We select the SPOC pipeline products as they are typically the most robust for TESS\n",
        "lc_collection = search_tess[search_tess.author == \"SPOC\"].download_all()\n",
        "lc_collection"
      ]
    },
    {
      "cell_type": "markdown",
      "id": "wTrk09738YlW",
      "metadata": {
        "id": "wTrk09738YlW"
      },
      "source": [
        "`lc_collection` is a `LightCurveCollection` object, which is a list of `LightCurve` objects. Let's inspect the first light curve in the collection."
      ]
    },
    {
      "cell_type": "code",
      "execution_count": 6,
      "id": "VPkTcFs88YlW",
      "metadata": {
        "id": "VPkTcFs88YlW"
      },
      "outputs": [
        {
          "name": "stdout",
          "output_type": "stream",
          "text": [
            "       time             flux      ...   pos_corr1      pos_corr2   \n",
            "                    electron / s  ...      pix            pix      \n",
            "------------------ -------------- ... -------------- --------------\n",
            "1325.2954950150029  6.5797603e+03 ... -4.4115655e-02 -2.5354782e-03\n",
            "1325.2968838975428  6.5745254e+03 ... -1.8341178e-02  3.1634498e-02\n",
            "1325.2982727800827  6.5781699e+03 ... -1.8514322e-02  3.5692897e-02\n",
            " 1325.299661662637  6.5739531e+03 ... -1.7806454e-02  4.7091395e-02\n",
            " 1325.301050545206  6.5824307e+03 ... -1.1401021e-02  4.7352709e-02\n",
            " 1325.302439427775  6.5697222e+03 ... -1.0383561e-02  4.7327477e-02\n",
            "1325.3038283103438  6.5629155e+03 ... -1.4666196e-02  5.1429681e-02\n",
            " 1325.305217192927  6.5780322e+03 ... -1.3531495e-02  4.8197862e-02\n",
            "1325.3066060755252  6.5665884e+03 ... -9.8002665e-03  5.1116228e-02\n",
            "1325.3079949581233  6.5774409e+03 ... -1.0404082e-02  4.4471473e-02\n",
            "               ...            ... ...            ...            ...\n",
            "1353.1634745571987  6.5797432e+03 ... -1.2783941e-02 -7.4503444e-02\n",
            "1353.1648634380517  6.5852031e+03 ... -1.6575536e-02 -7.2793148e-02\n",
            "1353.1662523189348  6.5865063e+03 ... -1.5725277e-02 -7.5819664e-02\n",
            " 1353.167641199817  6.5801875e+03 ... -1.8975994e-02 -7.0430830e-02\n",
            "1353.1690300806986  6.5750850e+03 ... -1.1870511e-02 -5.3128444e-02\n",
            "1353.1704189615816  6.5858789e+03 ... -1.4677929e-02 -6.9463290e-02\n",
            "1353.1718078424647  6.5463799e+03 ... -2.3196580e-02 -7.6976769e-02\n",
            "1353.1731967233475  6.5627617e+03 ... -1.7759286e-02 -8.6752072e-02\n",
            "1353.1745856042298  6.5696943e+03 ... -9.8228464e-03 -5.3460579e-02\n",
            "1353.1759744851113  6.5693296e+03 ... -1.8317202e-02 -8.3403200e-02\n",
            "Length = 18279 rows\n"
          ]
        },
        {
          "data": {
            "image/png": "[encoded data removed]",
            "text/plain": [
              "<Figure size 848.5x400 with 1 Axes>"
            ]
          },
          "metadata": {},
          "output_type": "display_data"
        }
      ],
      "source": [
        "if lc_collection:\n",
        "    lc0 = lc_collection[0]\n",
        "    print(lc0)\n",
        "    lc0.plot();\n",
        "else:\n",
        "    print(f\"No light curves found for {target_star} with the specified criteria.\")"
      ]
    },
    {
      "cell_type": "markdown",
      "id": "E2vT-zNZ8YlW",
      "metadata": {
        "id": "E2vT-zNZ8YlW"
      },
      "source": [
        "The plot shows time on the x-axis and flux (usually `PDCSAP_FLUX` by default for `lk.LightCurve` objects from SPOC) on the y-axis. You can specify which flux column to plot:"
      ]
    },
    {
      "cell_type": "code",
      "execution_count": 7,
      "id": "7BxFji3L8YlW",
      "metadata": {
        "id": "7BxFji3L8YlW"
      },
      "outputs": [
        {
          "data": {
            "image/png": "[encoded data removed]",
            "text/plain": [
              "<Figure size 848.5x400 with 1 Axes>"
            ]
          },
          "metadata": {},
          "output_type": "display_data"
        }
      ],
      "source": [
        "if lc_collection:\n",
        "    # lc0.plot(column='sap_flux', label='SAP Flux')\n",
        "    lc0.plot(column='pdcsap_flux', label='PDCSAP Flux');"
      ]
    },
    {
      "cell_type": "markdown",
      "id": "8J0DyCvB8YlX",
      "metadata": {
        "id": "8J0DyCvB8YlX"
      },
      "source": [
        "## Working with Light Curve Files (LCFs)\n",
        "\n",
        "A `LightCurve` object has several useful attributes and methods.\n",
        "* `lc.time`: Time values (often in BJD - Barycentric Julian Date).\n",
        "* `lc.flux`: Flux values.\n",
        "* `lc.flux_err`: Errors on flux values.\n",
        "* `lc.quality`: Quality flags indicating potential issues with data points.\n",
        "\n",
        "### Stitching Multiple Sectors/Quarters\n",
        "If your target was observed in multiple TESS sectors or Kepler quarters, `lc_collection.stitch()` can combine them. It's often a good idea to normalize each segment before stitching to handle brightness offsets between them."
      ]
    },
    {
      "cell_type": "code",
      "execution_count": 10,
      "id": "rqlgd7BW8YlX",
      "metadata": {
        "id": "rqlgd7BW8YlX"
      },
      "outputs": [
        {
          "ename": "TypeError",
          "evalue": "'MaskedQuantity' object with a scalar value is not iterable",
          "output_type": "error",
          "traceback": [
            "\u001b[0;31m---------------------------------------------------------------------------\u001b[0m",
            "\u001b[0;31mTypeError\u001b[0m                                 Traceback (most recent call last)",
            "Cell \u001b[0;32mIn[10], line 9\u001b[0m\n\u001b[1;32m      7\u001b[0m         \u001b[38;5;66;03m#lc_item = lc_item.normalize()\u001b[39;00m\n\u001b[1;32m      8\u001b[0m         lc_collection[i] \u001b[38;5;241m=\u001b[39m lc_item\n\u001b[0;32m----> 9\u001b[0m     stitched_lc \u001b[38;5;241m=\u001b[39m lc_collection\u001b[38;5;241m.\u001b[39mstitch()\n\u001b[1;32m     10\u001b[0m \u001b[38;5;28;01melif\u001b[39;00m lc_collection: \u001b[38;5;66;03m# Only one sector/quarter\u001b[39;00m\n\u001b[1;32m     11\u001b[0m     stitched_lc \u001b[38;5;241m=\u001b[39m lc_collection[\u001b[38;5;241m0\u001b[39m]\u001b[38;5;241m.\u001b[39mremove_outliers()\u001b[38;5;241m.\u001b[39mremove_nans()\u001b[38;5;241m.\u001b[39mnormalize()\n",
            "File \u001b[0;32m~/anaconda3/lib/python3.11/site-packages/lightkurve/collections.py:197\u001b[0m, in \u001b[0;36mLightCurveCollection.stitch\u001b[0;34m(self, corrector_func)\u001b[0m\n\u001b[1;32m    195\u001b[0m \u001b[38;5;28;01mwith\u001b[39;00m warnings\u001b[38;5;241m.\u001b[39mcatch_warnings():  \u001b[38;5;66;03m# ignore \"already normalized\" message\u001b[39;00m\n\u001b[1;32m    196\u001b[0m     warnings\u001b[38;5;241m.\u001b[39mfilterwarnings(\u001b[38;5;124m\"\u001b[39m\u001b[38;5;124mignore\u001b[39m\u001b[38;5;124m\"\u001b[39m, message\u001b[38;5;241m=\u001b[39m\u001b[38;5;124m\"\u001b[39m\u001b[38;5;124m.*already.*\u001b[39m\u001b[38;5;124m\"\u001b[39m)\n\u001b[0;32m--> 197\u001b[0m     lcs \u001b[38;5;241m=\u001b[39m [corrector_func(lc) \u001b[38;5;28;01mfor\u001b[39;00m lc \u001b[38;5;129;01min\u001b[39;00m \u001b[38;5;28mself\u001b[39m]\n\u001b[1;32m    199\u001b[0m \u001b[38;5;66;03m# Address issue #954: ignore incompatible columns with the same name\u001b[39;00m\n\u001b[1;32m    200\u001b[0m columns_to_remove \u001b[38;5;241m=\u001b[39m \u001b[38;5;28mset\u001b[39m()\n",
            "File \u001b[0;32m~/anaconda3/lib/python3.11/site-packages/lightkurve/collections.py:197\u001b[0m, in \u001b[0;36m<listcomp>\u001b[0;34m(.0)\u001b[0m\n\u001b[1;32m    195\u001b[0m \u001b[38;5;28;01mwith\u001b[39;00m warnings\u001b[38;5;241m.\u001b[39mcatch_warnings():  \u001b[38;5;66;03m# ignore \"already normalized\" message\u001b[39;00m\n\u001b[1;32m    196\u001b[0m     warnings\u001b[38;5;241m.\u001b[39mfilterwarnings(\u001b[38;5;124m\"\u001b[39m\u001b[38;5;124mignore\u001b[39m\u001b[38;5;124m\"\u001b[39m, message\u001b[38;5;241m=\u001b[39m\u001b[38;5;124m\"\u001b[39m\u001b[38;5;124m.*already.*\u001b[39m\u001b[38;5;124m\"\u001b[39m)\n\u001b[0;32m--> 197\u001b[0m     lcs \u001b[38;5;241m=\u001b[39m [corrector_func(lc) \u001b[38;5;28;01mfor\u001b[39;00m lc \u001b[38;5;129;01min\u001b[39;00m \u001b[38;5;28mself\u001b[39m]\n\u001b[1;32m    199\u001b[0m \u001b[38;5;66;03m# Address issue #954: ignore incompatible columns with the same name\u001b[39;00m\n\u001b[1;32m    200\u001b[0m columns_to_remove \u001b[38;5;241m=\u001b[39m \u001b[38;5;28mset\u001b[39m()\n",
            "File \u001b[0;32m~/anaconda3/lib/python3.11/site-packages/lightkurve/collections.py:174\u001b[0m, in \u001b[0;36mLightCurveCollection.<lambda>\u001b[0;34m(x)\u001b[0m\n\u001b[1;32m    169\u001b[0m \u001b[38;5;250m    \u001b[39m\u001b[38;5;124;03m\"\"\"DEPRECATED. Replaces `LightCurveFileCollection.SAP_FLUX`.\u001b[39;00m\n\u001b[1;32m    170\u001b[0m \u001b[38;5;124;03m    Provided for backwards-compatibility with Lightkurve v1.x;\u001b[39;00m\n\u001b[1;32m    171\u001b[0m \u001b[38;5;124;03m    will be removed soon.\"\"\"\u001b[39;00m\n\u001b[1;32m    172\u001b[0m     \u001b[38;5;28;01mreturn\u001b[39;00m LightCurveCollection([lc\u001b[38;5;241m.\u001b[39mSAP_FLUX \u001b[38;5;28;01mfor\u001b[39;00m lc \u001b[38;5;129;01min\u001b[39;00m \u001b[38;5;28mself\u001b[39m])\n\u001b[0;32m--> 174\u001b[0m \u001b[38;5;28;01mdef\u001b[39;00m \u001b[38;5;21mstitch\u001b[39m(\u001b[38;5;28mself\u001b[39m, corrector_func\u001b[38;5;241m=\u001b[39m\u001b[38;5;28;01mlambda\u001b[39;00m x: x\u001b[38;5;241m.\u001b[39mnormalize()):\n\u001b[1;32m    175\u001b[0m \u001b[38;5;250m    \u001b[39m\u001b[38;5;124;03m\"\"\"Stitch all light curves in the collection into a single `LightCurve`.\u001b[39;00m\n\u001b[1;32m    176\u001b[0m \n\u001b[1;32m    177\u001b[0m \u001b[38;5;124;03m    Any function passed to `corrector_func` will be applied to each light curve\u001b[39;00m\n\u001b[0;32m   (...)\u001b[0m\n\u001b[1;32m    191\u001b[0m \u001b[38;5;124;03m        Stitched light curve.\u001b[39;00m\n\u001b[1;32m    192\u001b[0m \u001b[38;5;124;03m    \"\"\"\u001b[39;00m\n\u001b[1;32m    193\u001b[0m     \u001b[38;5;28;01mif\u001b[39;00m corrector_func \u001b[38;5;129;01mis\u001b[39;00m \u001b[38;5;28;01mNone\u001b[39;00m:\n",
            "File \u001b[0;32m~/anaconda3/lib/python3.11/site-packages/lightkurve/lightcurve.py:1123\u001b[0m, in \u001b[0;36mLightCurve.normalize\u001b[0;34m(self, unit)\u001b[0m\n\u001b[1;32m   1087\u001b[0m \u001b[38;5;250m\u001b[39m\u001b[38;5;124;03m\"\"\"Returns a normalized version of the light curve.\u001b[39;00m\n\u001b[1;32m   1088\u001b[0m \n\u001b[1;32m   1089\u001b[0m \u001b[38;5;124;03mThe normalized light curve is obtained by dividing the ``flux`` and\u001b[39;00m\n\u001b[0;32m   (...)\u001b[0m\n\u001b[1;32m   1120\u001b[0m \u001b[38;5;124;03m    from zero.\u001b[39;00m\n\u001b[1;32m   1121\u001b[0m \u001b[38;5;124;03m\"\"\"\u001b[39;00m\n\u001b[1;32m   1122\u001b[0m validate_method(unit, [\u001b[38;5;124m\"\u001b[39m\u001b[38;5;124munscaled\u001b[39m\u001b[38;5;124m\"\u001b[39m, \u001b[38;5;124m\"\u001b[39m\u001b[38;5;124mpercent\u001b[39m\u001b[38;5;124m\"\u001b[39m, \u001b[38;5;124m\"\u001b[39m\u001b[38;5;124mppt\u001b[39m\u001b[38;5;124m\"\u001b[39m, \u001b[38;5;124m\"\u001b[39m\u001b[38;5;124mppm\u001b[39m\u001b[38;5;124m\"\u001b[39m])\n\u001b[0;32m-> 1123\u001b[0m median_flux \u001b[38;5;241m=\u001b[39m np\u001b[38;5;241m.\u001b[39mnanmedian(\u001b[38;5;28mself\u001b[39m\u001b[38;5;241m.\u001b[39mflux)\n\u001b[1;32m   1124\u001b[0m std_flux \u001b[38;5;241m=\u001b[39m np\u001b[38;5;241m.\u001b[39mnanstd(\u001b[38;5;28mself\u001b[39m\u001b[38;5;241m.\u001b[39mflux)\n\u001b[1;32m   1126\u001b[0m \u001b[38;5;66;03m# If the median flux is within half a standard deviation from zero, the\u001b[39;00m\n\u001b[1;32m   1127\u001b[0m \u001b[38;5;66;03m# light curve is likely zero-centered and normalization makes no sense.\u001b[39;00m\n",
            "File \u001b[0;32m<__array_function__ internals>:200\u001b[0m, in \u001b[0;36mnanmedian\u001b[0;34m(*args, **kwargs)\u001b[0m\n",
            "File \u001b[0;32m~/anaconda3/lib/python3.11/site-packages/astropy/units/quantity.py:1683\u001b[0m, in \u001b[0;36mQuantity.__array_function__\u001b[0;34m(self, function, types, args, kwargs)\u001b[0m\n\u001b[1;32m   1670\u001b[0m \u001b[38;5;66;03m# A function should be in one of the following sets or dicts:\u001b[39;00m\n\u001b[1;32m   1671\u001b[0m \u001b[38;5;66;03m# 1. SUBCLASS_SAFE_FUNCTIONS (set), if the numpy implementation\u001b[39;00m\n\u001b[1;32m   1672\u001b[0m \u001b[38;5;66;03m#    supports Quantity; we pass on to ndarray.__array_function__.\u001b[39;00m\n\u001b[0;32m   (...)\u001b[0m\n\u001b[1;32m   1680\u001b[0m \u001b[38;5;66;03m# function is in none of the above, we simply call the numpy\u001b[39;00m\n\u001b[1;32m   1681\u001b[0m \u001b[38;5;66;03m# implementation.\u001b[39;00m\n\u001b[1;32m   1682\u001b[0m \u001b[38;5;28;01mif\u001b[39;00m function \u001b[38;5;129;01min\u001b[39;00m SUBCLASS_SAFE_FUNCTIONS:\n\u001b[0;32m-> 1683\u001b[0m     \u001b[38;5;28;01mreturn\u001b[39;00m \u001b[38;5;28msuper\u001b[39m()\u001b[38;5;241m.\u001b[39m__array_function__(function, types, args, kwargs)\n\u001b[1;32m   1685\u001b[0m \u001b[38;5;28;01melif\u001b[39;00m function \u001b[38;5;129;01min\u001b[39;00m FUNCTION_HELPERS:\n\u001b[1;32m   1686\u001b[0m     function_helper \u001b[38;5;241m=\u001b[39m FUNCTION_HELPERS[function]\n",
            "File \u001b[0;32m~/anaconda3/lib/python3.11/site-packages/astropy/utils/masked/core.py:830\u001b[0m, in \u001b[0;36mMaskedNDArray.__array_function__\u001b[0;34m(self, function, types, args, kwargs)\u001b[0m\n\u001b[1;32m    828\u001b[0m dispatched_function \u001b[38;5;241m=\u001b[39m DISPATCHED_FUNCTIONS[function]\n\u001b[1;32m    829\u001b[0m \u001b[38;5;28;01mtry\u001b[39;00m:\n\u001b[0;32m--> 830\u001b[0m     dispatched_result \u001b[38;5;241m=\u001b[39m dispatched_function(\u001b[38;5;241m*\u001b[39margs, \u001b[38;5;241m*\u001b[39m\u001b[38;5;241m*\u001b[39mkwargs)\n\u001b[1;32m    831\u001b[0m \u001b[38;5;28;01mexcept\u001b[39;00m \u001b[38;5;167;01mNotImplementedError\u001b[39;00m:\n\u001b[1;32m    832\u001b[0m     \u001b[38;5;28;01mreturn\u001b[39;00m \u001b[38;5;28mself\u001b[39m\u001b[38;5;241m.\u001b[39m_not_implemented_or_raise(function, types)\n",
            "File \u001b[0;32m~/anaconda3/lib/python3.11/site-packages/astropy/utils/masked/function_helpers.py:973\u001b[0m, in \u001b[0;36mmasked_nanfunc.<locals>.nanfunc\u001b[0;34m(a, *args, **kwargs)\u001b[0m\n\u001b[1;32m    970\u001b[0m     \u001b[38;5;28;01mif\u001b[39;00m fill_value \u001b[38;5;129;01mis\u001b[39;00m \u001b[38;5;129;01mnot\u001b[39;00m \u001b[38;5;28;01mNone\u001b[39;00m:\n\u001b[1;32m    971\u001b[0m         a \u001b[38;5;241m=\u001b[39m a\u001b[38;5;241m.\u001b[39mfilled(fill_value)\n\u001b[0;32m--> 973\u001b[0m \u001b[38;5;28;01mreturn\u001b[39;00m np_func(a, \u001b[38;5;241m*\u001b[39margs, \u001b[38;5;241m*\u001b[39m\u001b[38;5;241m*\u001b[39mkwargs)\n",
            "File \u001b[0;32m<__array_function__ internals>:200\u001b[0m, in \u001b[0;36mmedian\u001b[0;34m(*args, **kwargs)\u001b[0m\n",
            "File \u001b[0;32m~/anaconda3/lib/python3.11/site-packages/astropy/units/quantity.py:1683\u001b[0m, in \u001b[0;36mQuantity.__array_function__\u001b[0;34m(self, function, types, args, kwargs)\u001b[0m\n\u001b[1;32m   1670\u001b[0m \u001b[38;5;66;03m# A function should be in one of the following sets or dicts:\u001b[39;00m\n\u001b[1;32m   1671\u001b[0m \u001b[38;5;66;03m# 1. SUBCLASS_SAFE_FUNCTIONS (set), if the numpy implementation\u001b[39;00m\n\u001b[1;32m   1672\u001b[0m \u001b[38;5;66;03m#    supports Quantity; we pass on to ndarray.__array_function__.\u001b[39;00m\n\u001b[0;32m   (...)\u001b[0m\n\u001b[1;32m   1680\u001b[0m \u001b[38;5;66;03m# function is in none of the above, we simply call the numpy\u001b[39;00m\n\u001b[1;32m   1681\u001b[0m \u001b[38;5;66;03m# implementation.\u001b[39;00m\n\u001b[1;32m   1682\u001b[0m \u001b[38;5;28;01mif\u001b[39;00m function \u001b[38;5;129;01min\u001b[39;00m SUBCLASS_SAFE_FUNCTIONS:\n\u001b[0;32m-> 1683\u001b[0m     \u001b[38;5;28;01mreturn\u001b[39;00m \u001b[38;5;28msuper\u001b[39m()\u001b[38;5;241m.\u001b[39m__array_function__(function, types, args, kwargs)\n\u001b[1;32m   1685\u001b[0m \u001b[38;5;28;01melif\u001b[39;00m function \u001b[38;5;129;01min\u001b[39;00m FUNCTION_HELPERS:\n\u001b[1;32m   1686\u001b[0m     function_helper \u001b[38;5;241m=\u001b[39m FUNCTION_HELPERS[function]\n",
            "File \u001b[0;32m~/anaconda3/lib/python3.11/site-packages/astropy/utils/masked/core.py:830\u001b[0m, in \u001b[0;36mMaskedNDArray.__array_function__\u001b[0;34m(self, function, types, args, kwargs)\u001b[0m\n\u001b[1;32m    828\u001b[0m dispatched_function \u001b[38;5;241m=\u001b[39m DISPATCHED_FUNCTIONS[function]\n\u001b[1;32m    829\u001b[0m \u001b[38;5;28;01mtry\u001b[39;00m:\n\u001b[0;32m--> 830\u001b[0m     dispatched_result \u001b[38;5;241m=\u001b[39m dispatched_function(\u001b[38;5;241m*\u001b[39margs, \u001b[38;5;241m*\u001b[39m\u001b[38;5;241m*\u001b[39mkwargs)\n\u001b[1;32m    831\u001b[0m \u001b[38;5;28;01mexcept\u001b[39;00m \u001b[38;5;167;01mNotImplementedError\u001b[39;00m:\n\u001b[1;32m    832\u001b[0m     \u001b[38;5;28;01mreturn\u001b[39;00m \u001b[38;5;28mself\u001b[39m\u001b[38;5;241m.\u001b[39m_not_implemented_or_raise(function, types)\n",
            "File \u001b[0;32m~/anaconda3/lib/python3.11/site-packages/astropy/utils/masked/function_helpers.py:580\u001b[0m, in \u001b[0;36mmedian\u001b[0;34m(a, axis, out, overwrite_input, keepdims)\u001b[0m\n\u001b[1;32m    577\u001b[0m     \u001b[38;5;28;01mraise\u001b[39;00m \u001b[38;5;167;01mNotImplementedError\u001b[39;00m\n\u001b[1;32m    579\u001b[0m a \u001b[38;5;241m=\u001b[39m Masked(a)\n\u001b[0;32m--> 580\u001b[0m r, k \u001b[38;5;241m=\u001b[39m np\u001b[38;5;241m.\u001b[39mlib\u001b[38;5;241m.\u001b[39mfunction_base\u001b[38;5;241m.\u001b[39m_ureduce(\n\u001b[1;32m    581\u001b[0m     a, func\u001b[38;5;241m=\u001b[39m_masked_median, axis\u001b[38;5;241m=\u001b[39maxis, out\u001b[38;5;241m=\u001b[39mout,\n\u001b[1;32m    582\u001b[0m     overwrite_input\u001b[38;5;241m=\u001b[39moverwrite_input)\n\u001b[1;32m    583\u001b[0m \u001b[38;5;28;01mreturn\u001b[39;00m (r\u001b[38;5;241m.\u001b[39mreshape(k) \u001b[38;5;28;01mif\u001b[39;00m keepdims \u001b[38;5;28;01melse\u001b[39;00m r) \u001b[38;5;28;01mif\u001b[39;00m out \u001b[38;5;129;01mis\u001b[39;00m \u001b[38;5;28;01mNone\u001b[39;00m \u001b[38;5;28;01melse\u001b[39;00m out\n",
            "File \u001b[0;32m~/anaconda3/lib/python3.11/site-packages/astropy/units/quantity.py:1181\u001b[0m, in \u001b[0;36mQuantity.__iter__\u001b[0;34m(self)\u001b[0m\n\u001b[1;32m   1179\u001b[0m \u001b[38;5;28;01mdef\u001b[39;00m \u001b[38;5;21m__iter__\u001b[39m(\u001b[38;5;28mself\u001b[39m):\n\u001b[1;32m   1180\u001b[0m     \u001b[38;5;28;01mif\u001b[39;00m \u001b[38;5;28mself\u001b[39m\u001b[38;5;241m.\u001b[39misscalar:\n\u001b[0;32m-> 1181\u001b[0m         \u001b[38;5;28;01mraise\u001b[39;00m \u001b[38;5;167;01mTypeError\u001b[39;00m(\n\u001b[1;32m   1182\u001b[0m             \u001b[38;5;124m\"\u001b[39m\u001b[38;5;124m'\u001b[39m\u001b[38;5;132;01m{cls}\u001b[39;00m\u001b[38;5;124m'\u001b[39m\u001b[38;5;124m object with a scalar value is not iterable\u001b[39m\u001b[38;5;124m\"\u001b[39m\n\u001b[1;32m   1183\u001b[0m             \u001b[38;5;241m.\u001b[39mformat(\u001b[38;5;28mcls\u001b[39m\u001b[38;5;241m=\u001b[39m\u001b[38;5;28mself\u001b[39m\u001b[38;5;241m.\u001b[39m\u001b[38;5;18m__class__\u001b[39m\u001b[38;5;241m.\u001b[39m\u001b[38;5;18m__name__\u001b[39m))\n\u001b[1;32m   1185\u001b[0m     \u001b[38;5;66;03m# Otherwise return a generator\u001b[39;00m\n\u001b[1;32m   1186\u001b[0m     \u001b[38;5;28;01mdef\u001b[39;00m \u001b[38;5;21mquantity_iter\u001b[39m():\n",
            "\u001b[0;31mTypeError\u001b[0m: 'MaskedQuantity' object with a scalar value is not iterable"
          ]
        }
      ],
      "source": [
        "if len(lc_collection) > 1:\n",
        "    # Stitching can sometimes introduce edge effects or fail if sectors are very different.\n",
        "    # Normalizing each light curve before stitching helps with offsets.\n",
        "    # Applying remove_outliers and remove_nans to each segment before stitching\n",
        "    for i,lc_item in enumerate(lc_collection):\n",
        "        lc_item = lc_item.remove_outliers().remove_nans()\n",
        "        #lc_item = lc_item.normalize()\n",
        "        lc_collection[i] = lc_item\n",
        "    stitched_lc = lc_collection.stitch()\n",
        "elif lc_collection: # Only one sector/quarter\n",
        "    stitched_lc = lc_collection[0].remove_outliers().remove_nans().normalize()\n",
        "else:\n",
        "    print(\"No light curves to stitch.\")\n",
        "\n",
        "if 'stitched_lc' in locals() and stitched_lc is not None:\n",
        "    stitched_lc.plot(label=\"Stitched & Normalized Light Curve\");\n",
        "elif lc_collection and lc_collection[0] is not None: # Fallback if stitching failed or only one LC\n",
        "    print(\"Plotting first downloaded light curve (cleaned, normalized, and NaNs removed).\")\n",
        "    stitched_lc = lc_collection[0].remove_outliers().remove_nans().normalize() # Ensure stitched_lc exists for next steps\n",
        "    stitched_lc.plot(label=\"Single Sector Cleaned & Normalized Light Curve\");"
      ]
    },
    {
      "cell_type": "markdown",
      "id": "tqrYzSHm8YlX",
      "metadata": {
        "id": "tqrYzSHm8YlX"
      },
      "source": [
        "### Data Cleaning with Quality Flags\n",
        "Space telescope data often have quality flags indicating issues like cosmic ray hits, spacecraft manoeuvres, or bad pixels. `lightkurve` attempts to handle standard quality masking when loading data (especially for `PDCSAP_FLUX` which often has NaNs where corrections failed).\n",
        "\n",
        "We've already used `remove_nans()` which is crucial for `PDCSAP_FLUX`. `remove_outliers()` was also applied above. These are good first steps in cleaning."
      ]
    },
    {
      "cell_type": "code",
      "execution_count": null,
      "id": "_H0Wdf9o8YlX",
      "metadata": {
        "id": "_H0Wdf9o8YlX"
      },
      "outputs": [],
      "source": [
        "if 'stitched_lc' in locals() and stitched_lc is not None:\n",
        "    # The stitched_lc has already had remove_outliers and remove_nans applied per segment.\n",
        "    # We can apply it again to the stitched light curve if desired, though it might be redundant or overly aggressive.\n",
        "    cleaned_lc = stitched_lc # Assuming previous steps were sufficient for now\n",
        "    \n",
        "    print(f\"Points in potentially stitched light curve: {len(cleaned_lc.flux)}\")\n",
        "    \n",
        "    cleaned_lc.plot(label=\"Cleaned Light Curve\");\n",
        "else:\n",
        "    print(\"Stitched light curve not available for cleaning.\")"
      ]
    },
    {
      "cell_type": "markdown",
      "id": "-wa1htkN8YlX",
      "metadata": {
        "id": "-wa1htkN8YlX"
      },
      "source": [
        "### Normalization and Detrending\n",
        "**Normalization** typically means dividing the flux by its median (or mean) value, so the baseline flux is around 1.0. This is useful for comparing depths of transits or variability. Our `stitched_lc` was already normalized per segment.\n",
        "**Detrending** aims to remove instrumental systematics or stellar activity trends that are not of primary interest (e.g., if you're looking for transits, you might want to remove long-term stellar variability).\n",
        "\n",
        "`lightkurve` offers several detrending methods. A common one is `flatten()`, which applies a Savitzky-Golay filter to remove low-frequency variations."
      ]
    },
    {
      "cell_type": "code",
      "execution_count": null,
      "id": "GPT850IG8YlX",
      "metadata": {
        "id": "GPT850IG8YlX"
      },
      "outputs": [],
      "source": [
        "if 'cleaned_lc' in locals() and cleaned_lc is not None:\n",
        "    # Our cleaned_lc is already normalized from the stitching step.\n",
        "        \n",
        "    # Detrending with flatten\n",
        "    # window_length should be chosen carefully: odd number, typically several times larger than the event of interest (e.g., transit duration)\n",
        "    # but smaller than long-term trends you want to remove.\n",
        "    # For TESS 2-minute cadence data of TOI 700 d (transit duration ~3.2 hours):\n",
        "    # Transit duration in points: (3.2 hours * 60 min/hour) / 2 min/point = ~96 points.\n",
        "    # A window_length of e.g. 5 * 96 + 1 = 481 (must be odd) might be a starting point.\n",
        "    # This needs to be tuned based on the specific light curve and science goal.\n",
        "    try:\n",
        "        flat_lc = cleaned_lc.flatten(window_length=481, polyorder=3)\n",
        "        flat_lc.plot(label=\"Flattened Light Curve\");\n",
        "    except Exception as e:\n",
        "        print(f\"Error during flatten: {e}. The light curve might be too short or have issues.\")\n",
        "        print(\"Using the cleaned (but not flattened) light curve for subsequent steps.\")\n",
        "        flat_lc = cleaned_lc # Fallback to unflattened if flatten fails\n",
        "        flat_lc.plot(label=\"Cleaned (Unflattened) Light Curve\");\n",
        "\n",
        "else:\n",
        "    print(\"Cleaned light curve not available for detrending.\")"
      ]
    },
    {
      "cell_type": "markdown",
      "id": "QUKA-USA8YlX",
      "metadata": {
        "id": "QUKA-USA8YlX"
      },
      "source": [
        "## Working with Target Pixel Files (TPFs) - Custom Photometry\n",
        "\n",
        "If pre-processed light curves are not suitable (e.g., due to contamination from nearby stars, or if you want to experiment with different apertures), you can create your own light curve from TPF data.\n",
        "\n",
        "First, download a TPF. Let's use the `search_tpf_result` from earlier and download one TPF for TOI 700."
      ]
    },
    {
      "cell_type": "code",
      "execution_count": null,
      "id": "Heqar-Q38YlX",
      "metadata": {
        "id": "Heqar-Q38YlX"
      },
      "outputs": [],
      "source": [
        "# We'll select the first TPF from the TESS SPOC pipeline results\n",
        "tpf_search_spoc = search_tpf_result[(search_tpf_result.author == \"SPOC\") & (search_tpf_result.mission == \"TESS\")]\n",
        "if len(tpf_search_spoc) > 0:\n",
        "    print(f\"Found {len(tpf_search_spoc)} TPFs. Downloading the first one.\")\n",
        "    tpf = tpf_search_spoc[0].download()\n",
        "    tpf.plot(frame=0); # Plot the first frame of the TPF\n",
        "else:\n",
        "    print(f\"No TPFs found for {target_star} from TESS SPOC pipeline.\")"
      ]
    },
    {
      "cell_type": "markdown",
      "id": "BkhAmElg8YlX",
      "metadata": {
        "id": "BkhAmElg8YlX"
      },
      "source": [
        "The plot shows the pixel data. The red outline is the default pipeline aperture. You can define your own aperture interactively (in a Jupyter Notebook session by enabling `tpf.interact()`) or by creating a boolean mask programmatically.\n",
        "\n",
        "### Creating a Custom Aperture Mask\n",
        "Let's try to define a simple circular aperture or use a threshold mask. For this example, we'll use the pipeline's default aperture, which is often a good choice."
      ]
    },
    {
      "cell_type": "code",
      "execution_count": null,
      "id": "mZ-8slR08YlX",
      "metadata": {
        "id": "mZ-8slR08YlX"
      },
      "outputs": [],
      "source": [
        "if 'tpf' in locals() and tpf is not None:\n",
        "    # Using the pipeline-defined aperture mask\n",
        "    pipeline_aperture = tpf.pipeline_mask\n",
        "    tpf.plot(aperture_mask=pipeline_aperture, mask_color='red');\n",
        "    print(f\"Pipeline aperture mask sum (pixels): {pipeline_aperture.sum()}\")\n",
        "\n",
        "    # To create a custom threshold mask (alternative):\n",
        "    # custom_aperture = tpf.create_threshold_mask(threshold=5) # threshold in sigma above median\n",
        "    # tpf.plot(aperture_mask=custom_aperture, mask_color='blue');\n",
        "    # print(f\"Custom threshold aperture mask sum (pixels): {custom_aperture.sum()}\")\n",
        "else:\n",
        "    print(\"TPF not available for aperture definition.\")"
      ]
    },
    {
      "cell_type": "markdown",
      "id": "uqPbGXYn8YlX",
      "metadata": {
        "id": "uqPbGXYn8YlX"
      },
      "source": [
        "### Performing Aperture Photometry\n",
        "Once you have an aperture mask, you can extract the light curve using the `to_lightcurve()` method. This method will sum the flux within the aperture for each cadence."
      ]
    },
    {
      "cell_type": "code",
      "execution_count": null,
      "id": "wl5_pTxU8YlX",
      "metadata": {
        "id": "wl5_pTxU8YlX"
      },
      "outputs": [],
      "source": [
        "if 'tpf' in locals() and tpf is not None and 'pipeline_aperture' in locals() and pipeline_aperture.sum() > 0:\n",
        "    custom_lc_from_tpf = tpf.to_lightcurve(aperture_mask=pipeline_aperture)\n",
        "    custom_lc_from_tpf.plot(label=\"Light Curve from TPF (Pipeline Aperture)\");\n",
        "elif 'tpf' in locals() and hasattr(tpf, 'pipeline_mask') and tpf.pipeline_mask.sum() > 0: \n",
        "    print(\"Using pipeline mask as custom_mask was not effective or defined.\")\n",
        "    custom_lc_from_tpf = tpf.to_lightcurve(aperture_mask=tpf.pipeline_mask) # Fallback to pipeline mask\n",
        "    custom_lc_from_tpf.plot(label=\"Pipeline Aperture Light Curve (from TPF)\");\n",
        "else:\n",
        "    print(\"TPF or suitable aperture mask not available for custom photometry.\")"
      ]
    },
    {
      "cell_type": "markdown",
      "id": "nfsH6yLK8YlX",
      "metadata": {
        "id": "nfsH6yLK8YlX"
      },
      "source": [
        "This custom light curve is essentially a SAP (Simple Aperture Photometry) light curve. It will likely contain systematics from the instrument and spacecraft. You would then need to perform systematic correction (e.g., using `Regressors` in `lightkurve`, or methods like CBV, PLD if you delve deeper). For simplicity, we'll skip advanced custom systematic correction here and revert to using the PDCSAP flux from earlier (`flat_lc`) for the transit search example, as it has already undergone some systematic correction."
      ]
    },
    {
      "cell_type": "markdown",
      "id": "96pd7MpL8YlY",
      "metadata": {
        "id": "96pd7MpL8YlY"
      },
      "source": [
        "## Example: Finding a Transit\n",
        "\n",
        "Let's take our flattened light curve (`flat_lc`) derived from the pre-processed PDCSAP data and see if we can spot the known transit of **TOI 700 d** (Period ~37.4 days, Duration ~3.2 hours).\n",
        "\n",
        "First, let's phase-fold the light curve."
      ]
    },
    {
      "cell_type": "code",
      "execution_count": null,
      "id": "XhfZYX458YlY",
      "metadata": {
        "id": "XhfZYX458YlY"
      },
      "outputs": [],
      "source": [
        "if 'flat_lc' in locals() and flat_lc is not None and len(flat_lc.remove_nans()) > 0:\n",
        "    # Known parameters for TOI 700 d (from NASA Exoplanet Archive / literature, e.g. Gilbert et al. 2020 or Exo.MAST)\n",
        "    period_toi_700_d = 37.42483 # days \n",
        "    t0_toi_700_d = 2458734.39723 # BJD_TDB, epoch of transit center for TOI 700 d\n",
        "    \n",
        "    # Phase fold the light curve\n",
        "    folded_lc = flat_lc.fold(period=period_toi_700_d, epoch_time=t0_toi_700_d)\n",
        "    folded_lc.plot(label=f\"Folded on P={period_toi_700_d:.5f} d\");\n",
        "    \n",
        "    # To see the transit more clearly, you might want to bin the folded data\n",
        "    binned_folded_lc = folded_lc.bin(time_bin_size=0.005) # Bin size in phase units (e.g., 0.005 is 1/200th of the period)\n",
        "    binned_folded_lc.plot(label=f\"Binned & Folded (P={period_toi_700_d:.5f} d)\", marker='o', linestyle='none');\n",
        "    plt.xlim(-0.05, 0.05) # Zoom in on the transit at phase 0\n",
        "    # TOI 700 d transit depth is ~4800 ppm = 0.0048 in normalized flux\n",
        "    # So, out-of-transit is 1.0, in-transit minimum is ~1.0 - 0.0048 = 0.9952\n",
        "    plt.ylim(0.994, 1.002) # Adjust y-limits based on expected transit depth for TOI 700 d\n",
        "    plt.title(f\"Phase-folded light curve of {target_star} (folded on TOI 700 d)\")\n",
        "else:\n",
        "    print(\"Flattened light curve not available or is empty for folding.\")"
      ]
    },
    {
      "cell_type": "markdown",
      "id": "m-y2tMTd8YlY",
      "metadata": {
        "id": "m-y2tMTd8YlY"
      },
      "source": [
        "This plot should show the characteristic dip of an exoplanet transit (TOI 700 d) around phase 0, assuming the period, T0, and detrending were appropriate. The depth of TOI 700 d is around 4800 ppm (0.48%), which should be detectable with good data and careful processing. You might need to adjust `window_length` in `flatten` or try other detrending to see it clearly, or it may be more apparent in certain TESS sectors than others."
      ]
    },
    {
      "cell_type": "markdown",
      "id": "9hgecnQx8YlY",
      "metadata": {
        "id": "9hgecnQx8YlY"
      },
      "source": [
        "## Saving Your Reduced Light Curve\n",
        "\n",
        "Once you have a processed light curve that you're happy with (e.g., `flat_lc` or `folded_lc`), you can save it to a file. Common formats include CSV or FITS.\n",
        "\n",
        "**Note for Google Colab users:** Files saved this way will be stored in the temporary Colab environment. To save them permanently, you'll need to download them to your local machine or mount your Google Drive and save them there. You can find downloaded files in the file browser panel in Colab (usually on the left sidebar) and right-click to download."
      ]
    },
    {
      "cell_type": "code",
      "execution_count": null,
      "id": "2_uhzfPS8YlY",
      "metadata": {
        "id": "2_uhzfPS8YlY"
      },
      "outputs": [],
      "source": [
        "if 'flat_lc' in locals() and flat_lc is not None and len(flat_lc.remove_nans()) > 0:\n",
        "    # Save the time-series (flattened) light curve as CSV\n",
        "    output_filename_csv = f\"{target_star.replace(' ', '_')}_flat_lightcurve.csv\"\n",
        "    flat_lc.to_csv(output_filename_csv, overwrite=True)\n",
        "    print(f\"Flattened light curve saved as: {output_filename_csv}\")\n",
        "    # Display the first few lines by reading it back (optional)\n",
        "    # import pandas as pd\n",
        "    # print(pd.read_csv(output_filename_csv).head())\n",
        "\n",
        "    # Save as FITS (Lightkurve's default format includes more metadata)\n",
        "    output_filename_fits = f\"{target_star.replace(' ', '_')}_flat_lightcurve.fits\"\n",
        "    flat_lc.write(output_filename_fits, overwrite=True)\n",
        "    print(f\"Flattened light curve saved as: {output_filename_fits}\")\n",
        "\n",
        "    # If using Google Colab and want to trigger a download for the CSV:\n",
        "    # from google.colab import files\n",
        "    # files.download(output_filename_csv)\n",
        "else:\n",
        "    print(\"No processed light curve to save.\")"
      ]
    },
    {
      "cell_type": "markdown",
      "id": "f4oGw4bF8YlY",
      "metadata": {
        "id": "f4oGw4bF8YlY"
      },
      "source": [
        "## Conclusion and Further Steps\n",
        "\n",
        "Congratulations! You've learned the basics of:\n",
        "* Searching for data from space telescopes like TESS and Kepler using `lightkurve`.\n",
        "* Understanding the difference between Light Curve Files (LCFs) and Target Pixel Files (TPFs).\n",
        "* Downloading and plotting light curves.\n",
        "* Performing essential data reduction steps: cleaning, normalization, and detrending.\n",
        "* Extracting a custom light curve from TPF data (basic aperture photometry).\n",
        "* Phase-folding a light curve to look for periodic signals like exoplanet transits.\n",
        "* Saving your processed light curve, with considerations for online IDEs.\n",
        "\n",
        "**Further Steps for Your Research:**\n",
        "* **Advanced Detrending:** Explore more sophisticated detrending techniques (e.g., Gaussian Processes, Cotrending Basis Vectors - CBVs, Pixel Level Decorrelation - PLD) if simple methods are insufficient.\n",
        "* **Period Finding:** If the period of a signal is unknown, use period-finding algorithms (e.g., Box Least Squares for transits, Lomb-Scargle periodogram for stellar oscillations) available in `lightkurve` or `astropy.timeseries`.\n",
        "* **Transit Modeling:** If you find a transit, you can model its shape to determine planetary parameters (radius, inclination, etc.) using packages like `exoplanet`, `batman`, or `PyTransit`.\n",
        "* **Systematics Mitigation:** Deep dive into understanding and mitigating instrumental systematics specific to the mission you are working with.\n",
        "* **Consult Documentation:** The [Lightkurve documentation](https://docs.lightkurve.org) is an excellent resource with many tutorials and API references."
      ]
    }
  ],
  "metadata": {
    "colab": {
      "provenance": []
    },
    "kernelspec": {
      "display_name": "base",
      "language": "python",
      "name": "python3"
    },
    "language_info": {
      "codemirror_mode": {
        "name": "ipython",
        "version": 3
      },
      "file_extension": ".py",
      "mimetype": "text/x-python",
      "name": "python",
      "nbconvert_exporter": "python",
      "pygments_lexer": "ipython3",
      "version": "3.11.5"
    }
  },
  "nbformat": 4,
  "nbformat_minor": 5
}
