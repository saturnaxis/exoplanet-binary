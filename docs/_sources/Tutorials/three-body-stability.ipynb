{
 "cells": [
  {
   "attachments": {},
   "cell_type": "markdown",
   "metadata": {},
   "source": [
    "# Three-body Stability\n",
    "\n",
    "## Historical overview\n",
    "\n",
    "The three-body problem ([**TBP**](https://en.wikipedia.org/wiki/Three-body_problem)) was developed and studied by Isaac Newton is his pioneering work, [the Principia](https://en.wikipedia.org/wiki/Philosophi%C3%A6_Naturalis_Principia_Mathematica).  In Newton's formulation, a solution to the TBP would analytically (exactly) describe the motion of the Moon under the influence of gravity from both the Earth and the Sun.  However, this problem would not be solved by Newton (or anyone).  \n",
    "\n",
    "[King Oscar II](https://en.wikipedia.org/wiki/Oscar_II) commemorated his birthday in 1889 with a contest, where he invited the top scholars to attempt solutions to the TBP.  It was a French mathematician, [Henri Poincare](https://en.wikipedia.org/wiki/Henri_Poincar%C3%A9), at the University of Paris who \"won\" the contest.  Poincare showed that the TBP could not be solved due to an insufficient number of constants of motion (11) relative to the 18 equations of motion that generally define the problem.  In other words, the TBP is non-integrable does not have an unambiguous solution in terms of algebraic and transcendental functions.\n",
    "\n",
    "Poincare showed that no solution to the general TBP exists, but some particular solutions do exist.  These solutions can have several requirements that are subsumed into the numenclature.  For example, the [circular-restricted TBP](https://farside.ph.utexas.edu/teaching/celestial/Celestial/node80.html) requires that the one body is much less massive than the other two (i.e., restricted $\\rightarrow$ $m_3 \\ll m_1$ and $m_3 \\ll m_2$) and the two more massive bodies orbit one another on circular orbits.\n",
    "\n",
    "Other solutions require central configurations, such as those proposed by Euler ([collinear](https://en.wikipedia.org/wiki/Euler%27s_three-body_problem)) and Lagrange ([equilateral triangle](https://en.wikipedia.org/wiki/Three-body_problem#Special-case_solutions)).  In 2013, physicists at the Insitute of Physics in Belgrade discovered 13 new families in the equal-mass, zero angular momentum TBP (see their [gallery](http://three-body.ipb.ac.rs/)).\n",
    "\n",
    "Instead of searching for analytical solutions, others have used numerical approximations (or computational solutions) to solve the problem.  Although less elegant, such techniques are generally more practical because investigators can explore wide swathes of potenatial parameter space using modern parallel computing.  \n",
    "\n",
    "This guide will focus on numerical approaches for the case of a planet orbiting a pair of binary stars.  In this case, the planet is (at most) a Jupiter-mass body and naturally requires the restricted TBP because the two primary bodies are stellar masses ($m_2>0.08\\ M_\\odot$; $m_1 \\ge m_2$).  In 1982, Rudolf Dvorak defined three potential configurations of planets in binary systems: S-Type, P-Type, or T-Type (see Figure {numref}`{number}<planet_configs>`).\n",
    "\n",
    "```{figure-md} planet_configs\n",
    "<img src=\"https://www.astronomy.com/wp-content/uploads/sites/2/2023/02/exoplanetorbits.png?resize=600%2C369\" alt=\"planet configurations\"  width=\"600px\">\n",
    "\n",
    "Possible configurations of exoplanets in binary star systems ([Dvorak 1982](https://ui.adsabs.harvard.edu/abs/1982OAWMN.191..423D/abstract)).  The planet can orbit either star (S-Type), both stars, (P-Type), or along the orbit of the secondary as a Trojan (T-Type). Figure credit: [Astronomy: Roen Kelly](https://www.astronomy.com/science/can-solar-systems-exist-in-a-binary-star-system/).\n",
    "```\n"
   ]
  },
  {
   "attachments": {},
   "cell_type": "markdown",
   "metadata": {},
   "source": [
    "## The old standard"
   ]
  },
  {
   "attachments": {},
   "cell_type": "markdown",
   "metadata": {},
   "source": [
    "## Stability for circumbinary planets"
   ]
  },
  {
   "attachments": {},
   "cell_type": "markdown",
   "metadata": {},
   "source": [
    "### A sample simulation (Kepler-16b)"
   ]
  },
  {
   "attachments": {},
   "cell_type": "markdown",
   "metadata": {},
   "source": [
    "## Stability for circumstellar planets"
   ]
  },
  {
   "attachments": {},
   "cell_type": "markdown",
   "metadata": {},
   "source": [
    "### A sample simulation ($\\gamma$ Cephei Ab)"
   ]
  }
 ],
 "metadata": {
  "interpreter": {
   "hash": "cff387fdeb90e4ccced9dcd80621bb508127aaf7364e37afa52690e3819a2639"
  },
  "kernelspec": {
   "display_name": "Python 3.8.8 64-bit ('base': conda)",
   "name": "python3"
  },
  "language_info": {
   "codemirror_mode": {
    "name": "ipython",
    "version": 3
   },
   "file_extension": ".py",
   "mimetype": "text/x-python",
   "name": "python",
   "nbconvert_exporter": "python",
   "pygments_lexer": "ipython3",
   "version": "3.8.8"
  }
 },
 "nbformat": 4,
 "nbformat_minor": 4
}
