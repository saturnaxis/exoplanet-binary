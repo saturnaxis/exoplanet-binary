{
 "cells": [
  {
   "attachments": {},
   "cell_type": "markdown",
   "metadata": {},
   "source": [
    "# Three-body Stability\n",
    "\n",
    "## Historical overview\n",
    "\n",
    "The three-body problem ([**TBP**](https://en.wikipedia.org/wiki/Three-body_problem)) was developed and studied by Isaac Newton is his pioneering work, [the Principia](https://en.wikipedia.org/wiki/Philosophi%C3%A6_Naturalis_Principia_Mathematica).  In Newton's formulation, a solution to the TBP would analytically (exactly) describe the motion of the Moon under the influence of gravity from both the Earth and the Sun.  However, this problem would not be solved by Newton (or anyone).  \n",
    "\n",
    "[King Oscar II](https://en.wikipedia.org/wiki/Oscar_II) commemorated his birthday in 1889 with a contest, where he invited the top scholars to attempt solutions to the TBP.  It was a French mathematician, [Henri Poincare](https://en.wikipedia.org/wiki/Henri_Poincar%C3%A9), at the University of Paris who \"won\" the contest.  Poincare showed that the TBP could not be solved due to an insufficient number of constants of motion (11) relative to the 18 equations of motion that generally define the problem.  In other words, the TBP is non-integrable does not have an unambiguous solution in terms of algebraic and transcendental functions.\n",
    "\n",
    "Poincare showed that no solution to the general TBP exists, but some particular solutions do exist.  These solutions can have several requirements that are subsumed into the numenclature.  For example, the [circular-restricted TBP](https://farside.ph.utexas.edu/teaching/celestial/Celestial/node80.html) requires that the one body is much less massive than the other two (i.e., restricted $\\rightarrow$ $m_3 \\ll m_1$ and $m_3 \\ll m_2$) and the two more massive bodies orbit one another on circular orbits.\n",
    "\n",
    "Other solutions require central configurations, such as those proposed by Euler ([collinear](https://en.wikipedia.org/wiki/Euler%27s_three-body_problem)) and Lagrange ([equilateral triangle](https://en.wikipedia.org/wiki/Three-body_problem#Special-case_solutions)).  In 2013, physicists at the Insitute of Physics in Belgrade discovered 13 new families in the equal-mass, zero angular momentum TBP (see their [gallery](http://three-body.ipb.ac.rs/)).\n",
    "\n",
    "Instead of searching for analytical solutions, others have used numerical approximations (or computational solutions) to solve the problem.  Although less elegant, such techniques are generally more practical because investigators can explore wide swathes of potenatial parameter space using modern parallel computing.  \n",
    "\n",
    "This guide will focus on numerical approaches for the case of a planet orbiting a pair of binary stars.  In this case, the planet is (at most) a Jupiter-mass body and naturally requires the restricted TBP because the two primary bodies are stellar masses ($m_2>0.08\\ M_\\odot$; $m_1 \\ge m_2$).  In 1982, Rudolf Dvorak defined three potential configurations of planets in binary systems: S-Type, P-Type, or T-Type (see Figure {numref}`{number}<planet_configs>`).\n",
    "\n",
    "```{figure-md} planet_configs\n",
    "<img src=\"https://www.astronomy.com/wp-content/uploads/sites/2/2023/02/exoplanetorbits.png?resize=600%2C369\" alt=\"planet configurations\"  width=\"600px\">\n",
    "\n",
    "Possible configurations of exoplanets in binary star systems ([Dvorak 1982](https://ui.adsabs.harvard.edu/abs/1982OAWMN.191..423D/abstract)).  The planet can orbit either star (S-Type), both stars, (P-Type), or along the orbit of the secondary as a Trojan (T-Type). Figure credit: [Astronomy: Roen Kelly](https://www.astronomy.com/science/can-solar-systems-exist-in-a-binary-star-system/).\n",
    "```\n"
   ]
  },
  {
   "attachments": {},
   "cell_type": "markdown",
   "metadata": {},
   "source": [
    "## Updating the standard ([Holman & Wiegert 1999](https://ui.adsabs.harvard.edu/abs/1999AJ....117..621H/abstract))\n",
    "\n",
    "From ${\\sim}1980-2000$, the growth of computational power allowed researchers to better understand the motion of three bodies.  In the 1980s, most numerical simulations were limited to ${\\sim}10^3\\ T_{\\rm bin}$ (scaled by the binary orbital period $T_{\\rm bin}$) in simulation time due to the excessive wall time required for the computations.  Many researchers turned to dynamical indicators of chaos (e.g., [Benettin et al. 1980](https://ui.adsabs.harvard.edu/abs/1980Mecc...15....9B/abstract), [Lecar et al. 1992](https://ui.adsabs.harvard.edu/abs/1992AJ....104.1230L/abstract),  [Smith & Szebehely 1993](https://ui.adsabs.harvard.edu/abs/1993CeMDA..56..409S/abstract), [Froeschle et al. 1997](https://ui.adsabs.harvard.edu/abs/1997CeMDA..67...41F/abstract)) to identify *possible routes* to unstable orbits. \n",
    "\n",
    "[Dvorak (1986)](https://ui.adsabs.harvard.edu/abs/1986A%26A...167..379D/abstract) and [Rabl & Dvorak (1988)](https://ui.adsabs.harvard.edu/abs/1988A%26A...191..385R/abstract) showed that there is a transition between regular (periodic), quasi-periodic, and chaotic orbits for planets in binaries.  Unstable (or unbound) orbits are non-periodic, which can overlap in type with chaotic orbits.  There are chaotic orbits that remain bound to the system.  Therefore, chaos **does not** imply instability.\n",
    "\n",
    "Orbital chaos is a sensitivity to initial conditions, which means that starting the planet or binary at slightly different positions can result in a drastically different orbital behavior.  Starting the planet a degree ahead (or behind) in its orbit through its initial mean (or true) anomaly means that the planet will feel a slightly different net force initially.  This slight difference in net force can speed up (or slow down) the planet and lead to an increase in its orbital eccentricity.  The secondary star can \n",
    "\n",
    "- \"pump\" the planet's orbital eccentricity through exchanges of angular momentum, or \n",
    "- scatter the planet (change in planetary semimajor axis) through exchanges of orbital energy.\n",
    "\n",
    "[Holman & Wiegert 1999](https://ui.adsabs.harvard.edu/abs/1999AJ....117..621H/abstract) focused on the potential to scatter a single planet.  They performed numerical simulations with the following assumptions:\n",
    "\n",
    "1. The planet does not influence the orbit of the host binary (i.e., a test (zero-mass) particle).\n",
    "2. The planet begins on a circular, coplanar orbit (relative to the host binary).\n",
    "3. The planet and binary orbits can be scaled hierarchically, where the initial planetary semimajor axis ratio is $\\rho = a_p/a_{\\rm bin}$.\n",
    "4. The binary masses are scaled by the mass ratio $\\mu = m_2/(m_1+m_2)$, where $m_1\\ge m_2$.\n",
    "5. A critical semimajor axis $a_c$ exists for the planet where planets with \n",
    "   - $a_p \\leq a_c$ are bound for $10^4$ binary orbits (i.e., scaled by $T_{\\rm bin}$) and \n",
    "   - $a_p > a_c$ are unbound within a time $t<10^4\\ T_{\\rm bin}$.\n",
    "6. The planetary and binary orbits are initially aligned $(\\omega_p = \\omega_{\\rm bin})$, where the binary begins at either periastron $(f_{\\rm bin} = 0^\\circ)$ or apastron $(f_{\\rm bin} = 180^\\circ)$.\n",
    "\n",
    "These are not bad assumptions considering the computing power and knowledge of planetary systems during the late 1990s.  For a given mass ratio $\\mu$, and binary eccentricity $e_{\\rm bin}$, an initial condition $(\\rho,\\ f_p)$ is evaluated.  The semimajor axis ratio range differs for S-Type $(0.02\\leq \\rho \\leq 0.5)$ and P-Type $(1\\leq \\rho \\leq 5)$ (see Figure {numref}`{number}<planet_configs>`).  But eight equidistant values of the planetary true anomaly ($f_p = 0^\\circ - 315^\\circ;\\ 45^\\circ$ increments) are used.  *Note that the planetary mean anomaly $M$ and true anomaly $f$ are interchangeable for **circular** orbits.*\n",
    "\n",
    "```{figure-md} planet_ICs\n",
    "<img src=\"threebody_stability/HW_Table1.png\" alt=\"HW Table 1\"  width=\"400px\">\n",
    "\n",
    "Initial conditions used in [Holman & Wiegert 1999](https://ui.adsabs.harvard.edu/abs/1999AJ....117..621H/abstract) for both S-Type and P-Type planets.\n",
    "```\n",
    "\n",
    "This is a 4D space, where two dimensions $(\\mu\\ \\&\\ e_{\\rm bin})$ depend on the host binary, while the other two dimensions $(\\rho\\ \\&\\ f_p)$ depend on the planet's initial position.  It can be easier to conceptualize traversing this space through a 2D grid within another 2D grid as shown in Figure {numref}`{number}<param_grid>`.\n",
    "\n",
    "```{figure-md} param_grid\n",
    "<img src=\"threebody_stability/HW_4dim.png\" alt=\"HW dimensions\"  width=\"400px\">\n",
    "\n",
    "A 4D parameter space abstracted into two nested 2D grids.\n",
    "```\n",
    "\n",
    "The results of each nested grid can be summarized by identifying a critical semimajor axis ratio $\\rho_{\\rm cr}$ for a given $(\\mu,\\ e_{\\rm bin})$ combination.  The critical semimajor axis ratio $\\rho_{\\rm cr}$ is defined as the boundary between stable and unstable initial conditions $(\\rho,\\ f_p)$:\n",
    "\n",
    "- one side of the boundary has a planet that survives the full simulation time for all values of $f_p$\n",
    "- the other side has simulations that terminate early due to close approaches (i.e., scatters) with either star or an escape from the system.\n",
    "\n",
    "Table {numref}`{number}<stability_grid1>` shows the results for $\\mu = e_{\\rm bin} = 0.5$ from [Holman & Wiegert 1999](https://ui.adsabs.harvard.edu/abs/1999AJ....117..621H/abstract) for S-Type planets, where the $\"+\"$ symbols denote stable (i.e., no scatters or escapes).\n",
    "\n",
    "```{figure-md} stability_grid1\n",
    "<img src=\"threebody_stability/HW_Table2.png\" alt=\"HW Table 2\"  width=\"400px\">\n",
    "\n",
    "Planet survival results for $\\mu = e_{\\rm bin} = 0.5$ from [Holman & Wiegert 1999](https://ui.adsabs.harvard.edu/abs/1999AJ....117..621H/abstract) for S-Type planets.\n",
    "```\n",
    "\n",
    "Table {numref}`{number}<stability_grid2>` shows data that has been reduced, where each cell in the table represents the critical semimajor axis $\\rho_{\\rm cr}$ determined through a smaller grid similar to Table {numref}`{number}<stability_grid1>`.\n",
    "\n",
    "```{figure-md} stability_grid2\n",
    "<img src=\"threebody_stability/HW_Table3.png\" alt=\"HW Table 3\"  width=\"400px\">\n",
    "\n",
    "Planetary critical semimajor axis $\\rho_{\\rm cr}$ from [Holman & Wiegert 1999](https://ui.adsabs.harvard.edu/abs/1999AJ....117..621H/abstract) for S-Type planets.\n",
    "```\n",
    "\n",
    "From Table {numref}`{number}<stability_grid2>`, [Holman & Wiegert 1999](https://ui.adsabs.harvard.edu/abs/1999AJ....117..621H/abstract) perform a least-squares fit given the trial function:\n",
    "\n",
    "\\begin{align}\n",
    "\\rho_{\\rm cr} = c_1 + c_2\\mu + c_3e_{\\rm bin} + c_4\\mu e_{\\rm bin} + c_5 e_{\\rm bin}^2 + c_6 \\mu e_{\\rm bin}^2.\n",
    "\\end{align}\n",
    "\n",
    "The least-squares fitting procedure identifies values of $c_1-c_6$ that minimizes $\\chi^2$ (e.g., the residuals or cost function).  \n",
    "\n",
    "The above procedure has merits in that it will accurately reproduce the critical semimajor axis $\\rho_{\\rm cr}$ for other parts of the $(\\mu,\\ e_{\\rm bin})$ parameter space through an easy-to-use polynomial.  However, larger discrepancies appear when extrapolating to broad regimes of mass ration $\\mu$ (e.g., $\\mu \\leq 0.1$ and $\\mu \\geq 0.9$).  There can be significant differences if the planetary orbit is misaligned with the host binary, which is expected from disk observations in binaries (e.g., [Monin et al. (2006)](https://ui.adsabs.harvard.edu/abs/2006A%26A...446..201M/abstract)).\n",
    "\n",
    "[Quarles et al. (2020)](https://ui.adsabs.harvard.edu/abs/2020AJ....159...80Q/abstract) addresses these issues in two ways:\n",
    "\n",
    "1. expand the simulations to cover a wider range in $\\mu$ and increase the grid resolution,\n",
    "2. evaluate the simulations for a range of planet inclinations.\n",
    "\n"
   ]
  },
  {
   "attachments": {},
   "cell_type": "markdown",
   "metadata": {},
   "source": [
    "## Stability for (P-Type) circumbinary planets"
   ]
  },
  {
   "attachments": {},
   "cell_type": "markdown",
   "metadata": {},
   "source": [
    "### A sample simulation (Kepler-16b)"
   ]
  },
  {
   "attachments": {},
   "cell_type": "markdown",
   "metadata": {},
   "source": [
    "## Stability for (S-Type) circumstellar planets"
   ]
  },
  {
   "attachments": {},
   "cell_type": "markdown",
   "metadata": {},
   "source": [
    "### A sample simulation ($\\gamma$ Cephei Ab)"
   ]
  }
 ],
 "metadata": {
  "interpreter": {
   "hash": "cff387fdeb90e4ccced9dcd80621bb508127aaf7364e37afa52690e3819a2639"
  },
  "kernelspec": {
   "display_name": "Python 3.8.8 64-bit ('base': conda)",
   "name": "python3"
  },
  "language_info": {
   "codemirror_mode": {
    "name": "ipython",
    "version": 3
   },
   "file_extension": ".py",
   "mimetype": "text/x-python",
   "name": "python",
   "nbconvert_exporter": "python",
   "pygments_lexer": "ipython3",
   "version": "3.8.8"
  }
 },
 "nbformat": 4,
 "nbformat_minor": 4
}
