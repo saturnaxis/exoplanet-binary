{
 "cells": [
  {
   "cell_type": "markdown",
   "metadata": {},
   "source": [
    "# The Celestial Sphere: A Journey Through the Stars\n",
    "\n",
    "The **celestial sphere** is an imaginary sphere of gigantic radius, concentric with the Earth, onto which all celestial objects appear to be projected. It's a fundamental concept in astronomy for understanding the positions and motions of objects in the sky."
   ]
  },
  {
   "cell_type": "markdown",
   "metadata": {},
   "source": [
    "---"
   ]
  },
  {
   "cell_type": "markdown",
   "metadata": {},
   "source": [
    "## The Ancient Greek Perspective\n",
    "\n",
    "Ancient Greek astronomers, like **Aristotle** and **Ptolemy**, didn't know the Earth revolved around the Sun. From their Earth-centered (geocentric) perspective, it appeared as though the stars were fixed on a giant sphere that rotated around the Earth once a day.\n",
    "\n",
    "Here's how they likely constructed this idea:\n",
    "\n",
    "1.  **Observation of Daily Motion:** They observed that the Sun, Moon, planets, and stars rose in the eastern part of the sky and set in the western part. This suggested a daily rotation of something encompassing the Earth.\n",
    "2.  **Fixed Patterns of Stars:** While individual stars moved across the sky, their positions relative to each other (the constellations) remained constant. This implied they were attached to a single, rigid structure.\n",
    "3.  **Apparent Dome of the Sky:** The sky looks like a dome overhead. Extending this dome to be a full sphere surrounding the Earth was a natural geometric and conceptual leap.\n",
    "4.  **Celestial Poles and Equator:** They noticed that some stars in the north appeared to circle around a fixed point (the North Celestial Pole, near Polaris), while others rose and set. This led to the concept of celestial poles as the pivot points of this sphere and a celestial equator as the projection of Earth's equator onto this sphere.\n",
    "\n",
    "This model, while not physically accurate in terms of the universe's structure, was incredibly useful for predicting the positions of celestial objects and for navigation. It remains a powerful tool for observational astronomy today."
   ]
  },
  {
   "cell_type": "markdown",
   "metadata": {},
   "source": [
    "---"
   ]
  },
  {
   "cell_type": "markdown",
   "metadata": {},
   "source": [
    "## Key Astronomical Terms\n",
    "\n",
    "Here are some fundamental terms associated with the celestial sphere:\n",
    "\n",
    "* **Zenith:** The point on the celestial sphere directly above an observer.\n",
    "    * **Diagram:**\n",
    "    ![Zenith, Nadir, and Horizon](https://www.trekview.org/assets/images/blog/2020-03-13/horizon-coords-meta.jpg)\n",
    "* **Nadir:** The point on the celestial sphere directly below an observer (opposite the zenith).\n",
    "* **Celestial Poles (North and South):** The points on the celestial sphere directly above the Earth's North and South geographic poles. These are the points around which the celestial sphere appears to rotate.\n",
    "    * **Diagram:**\n",
    "    ![Celestial Poles and Equator](https://orionbearastronomy.com/wp-content/uploads/2019/02/the-celestial-sphere-1-638.jpg)\n",
    "* **Celestial Equator:** The great circle on the celestial sphere in the same plane as the Earth's equator. It divides the celestial sphere into northern and southern hemispheres.\n",
    "    * **Diagram:** (See Celestial Poles diagram above, it's usually shown together)\n",
    "* **Horizon:** The great circle on the celestial sphere that separates the visible sky from the invisible sky (below the observer). It's where the sky appears to meet the Earth.\n",
    "    * **Diagram:** (See Zenith diagram above)\n",
    "* **Ecliptic:** The apparent annual path of the Sun on the celestial sphere as viewed from Earth. It's tilted at an angle of about $23.5^{\\circ}$ relative to the celestial equator because of the tilt of Earth's axis. The planets and Moon also appear to move roughly along the ecliptic.\n",
    "    * **Diagram:**\n",
    "    ![Ecliptic with Earth and Sun](http://hyperphysics.phy-astr.gsu.edu/hbase/solar/imgsol/eclip.png)\n",
    "* **Meridian (Local Meridian):** A great circle on the celestial sphere passing through the celestial poles and the observer's zenith. An object is at its highest point in the sky when it crosses the meridian.\n",
    "    * **Diagram:**\n",
    "    ![Local Meridian Diagram](https://astronomy.swin.edu.au/cms/cpg15x/albums/userpics/meridian.jpg)"
   ]
  },
  {
   "cell_type": "markdown",
   "metadata": {},
   "source": [
    "---"
   ]
  },
  {
   "cell_type": "markdown",
   "metadata": {},
   "source": [
    "## Finding Your Way: Altitude and Azimuth (Local Coordinates)\n",
    "\n",
    "To tell someone where to look for a star in their *local sky right now*, you use the **altitude-azimuth** system. This system is specific to the observer's location and time.\n",
    "\n",
    "* **Altitude (Alt):** This is the angular height of an object above the observer's horizon. It's measured in degrees, from $0^{\\circ}$ at the horizon to $90^{\\circ}$ at the zenith. Objects below the horizon have negative altitudes.\n",
    "* **Azimuth (Az):** This is the angular distance measured clockwise around the observer's horizon from a reference direction, usually **North**, to the point on the horizon directly below the object. It's measured in degrees from $0^{\\circ}$ to $360^{\\circ}$.\n",
    "    * North = $0^{\\circ}$\n",
    "    * East = $90^{\\circ}$\n",
    "    * South = $180^{\\circ}$\n",
    "    * West = $270^{\\circ}$\n",
    "\n",
    "**How it works:** Imagine pointing your finger towards the North on the horizon. Then, swing your arm to the right (clockwise) along the horizon by the azimuth angle. Finally, lift your arm upwards by the altitude angle. That's where the object is!\n",
    "\n",
    "* **Diagram:**\n",
    "![Altitude-Azimuth Schematic](https://upload.wikimedia.org/wikipedia/commons/thumb/f/f7/Azimuth-Altitude_schematic.svg/498px-Azimuth-Altitude_schematic.svg.png)\n",
    "\n",
    "**Important Note:** Because the Earth rotates, the altitude and azimuth of a star are constantly changing."
   ]
  },
  {
   "cell_type": "markdown",
   "metadata": {},
   "source": [
    "---"
   ]
  },
  {
   "cell_type": "markdown",
   "metadata": {},
   "source": [
    "## Universal Coordinates: Right Ascension, Declination, and Epoch\n",
    "\n",
    "To give a star a \"fixed\" address on the celestial sphere, much like longitude and latitude on Earth, astronomers use the **equatorial coordinate system**. These coordinates remain (mostly) constant for a star, regardless of the observer's location or the time of day.\n",
    "\n",
    "* **Declination (Dec, $\\delta$):** This is the angular distance of an object north or south of the celestial equator. It's analogous to latitude on Earth.\n",
    "    * Measured in degrees, minutes ('), and seconds (\").\n",
    "    * Positive values are north of the celestial equator (e.g., $+30^{\\circ}$).\n",
    "    * Negative values are south of the celestial equator (e.g., $-15^{\\circ}$).\n",
    "    * The celestial equator is $0^{\\circ}$ declination.\n",
    "    * The North Celestial Pole is $+90^{\\circ}$ declination.\n",
    "    * The South Celestial Pole is $-90^{\\circ}$ declination.\n",
    "\n",
    "* **Right Ascension (RA, $\\alpha$):** This is the angular distance of an object measured eastward along the celestial equator from the **vernal equinox** to the hour circle passing through the object. It's analogous to longitude on Earth.\n",
    "    * The **vernal equinox** (also called the First Point of Aries) is the point on the celestial sphere where the Sun crosses the celestial equator moving from south to north, occurring around March 20th or 21st each year. This point is the $0$ reference for Right Ascension.\n",
    "    * RA is usually measured in hours (h), minutes (m), and seconds (s), from $0\\text{h}$ to $24\\text{h}$. This is because the Earth (and thus the celestial sphere) appears to rotate $360^{\\circ}$ in 24 hours, so 1 hour of RA = $15^{\\circ}$ of arc ($360^{\\circ} / 24\\text{h} = 15^{\\circ}/\\text{h}$).\n",
    "    * An object with an RA of $0\\text{h}$ is at the vernal equinox. An object with an RA of $6\\text{h}$ is $90^{\\circ}$ east of the vernal equinox along the celestial equator.\n",
    "\n",
    "* **Diagram for RA and Dec:**\n",
    "![Right Ascension and Declination Coordinates](https://www.pas.rochester.edu/~blackman/ast104/celestialtime.gif)\n",
    "\n",
    "* **Epoch:** Because of the Earth's axial precession (a slow wobble in its rotational axis), the celestial poles and celestial equator shift very slowly over time. This means the vernal equinox also shifts, causing the Right Ascension and Declination of stars to change gradually.\n",
    "    * Therefore, celestial coordinates are always specified for a particular **epoch**, which is a standard reference point in time.\n",
    "    * The current standard epoch is **J2000.0**, which refers to January 1, 2000, at 12:00 Terrestrial Time. When you look up star coordinates in a catalog, they are usually given for J2000.0. For very precise observations over long periods, astronomers will calculate the coordinates for the current date, known as the \"epoch of date.\""
   ]
  },
  {
   "cell_type": "markdown",
   "metadata": {},
   "source": [
    "---"
   ]
  },
  {
   "cell_type": "markdown",
   "metadata": {},
   "source": [
    "## Best Right Ascension for Monthly Astronomical Observations\n",
    "\n",
    "For planning nighttime astronomical observations, you want to observe objects that are high in the sky, ideally near your local meridian, during the darkest part of the night (around midnight). The Sun is \"opposite\" this region of the sky.\n",
    "\n",
    "The Sun's Right Ascension changes throughout the year as it moves along the ecliptic. The objects best placed for viewing around midnight will have a Right Ascension roughly $12$ hours different from the Sun's current RA.\n",
    "\n",
    "Here's a general guide (these are approximate RAs that will be near the meridian around local midnight):\n",
    "\n",
    "| Month     | Best RA for Midnight Viewing (approx.) | Sun's Approximate RA |\n",
    "| :-------- | :------------------------------------ | :------------------- |\n",
    "| January   | 6h - 8h RA                            | ~18h - 20h           |\n",
    "| February  | 8h - 10h RA                           | ~20h - 22h           |\n",
    "| March     | 10h - 12h RA                          | ~22h - 0h            |\n",
    "| April     | 12h - 14h RA                          | ~0h - 2h             |\n",
    "| May       | 14h - 16h RA                          | ~2h - 4h             |\n",
    "| June      | 16h - 18h RA                          | ~4h - 6h             |\n",
    "| July      | 18h - 20h RA                          | ~6h - 8h             |\n",
    "| August    | 20h - 22h RA                          | ~8h - 10h            |\n",
    "| September | 22h - 0h RA                           | ~10h - 12h           |\n",
    "| October   | 0h - 2h RA                            | ~12h - 14h           |\n",
    "| November  | 2h - 4h RA                            | ~14h - 16h           |\n",
    "| December  | 4h - 6h RA                            | ~16h - 18h           |\n",
    "\n",
    "**How to use this:**\n",
    "1.  Find the current month.\n",
    "2.  The listed RA range is what will be culminating (highest in the sky) around midnight.\n",
    "3.  Objects with RAs about 2-3 hours on either side of this range will also be well-placed for viewing earlier or later in the evening.\n",
    "\n",
    "For example, in **May**, objects with RAs around $14\\text{h}$ to $16\\text{h}$ (like the Virgo Cluster or constellations such as Boötes and Libra) will be high in the sky around midnight. Objects with RAs of $12\\text{h}$ would be good to observe earlier in the evening, while objects with RAs of $18\\text{h}$ would be better later in the night/early morning.\n",
    "\n",
    "Happy stargazing!"
   ]
  }
 ],
 "metadata": {
  "kernelspec": {
   "display_name": "Python 3",
   "language": "python",
   "name": "python3"
  },
  "language_info": {
   "codemirror_mode": {
    "name": "ipython",
    "version": 3
   },
   "file_extension": ".py",
   "mimetype": "text/x-python",
   "name": "python",
   "nbconvert_exporter": "python",
   "pygments_lexer": "ipython3",
   "version": "3.10.0"
  }
 },
 "nbformat": 4,
 "nbformat_minor": 5
}
