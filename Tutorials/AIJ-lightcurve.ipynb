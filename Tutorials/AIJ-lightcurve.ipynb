{
  "cells": [
    {
      "cell_type": "markdown",
      "id": "y_Zw8wy79FP0",
      "metadata": {
        "id": "y_Zw8wy79FP0"
      },
      "source": [
        "# Data Reduction with AIJ\n",
        "\n",
        "This tutorial will guide you through the process of reducing astronomical data from FITS files to create a normalized, phase-folded light curve of an eclipsing binary star system using AstroImageJ (AIJ). This is a fundamental skill in observational astronomy, particularly for studying variable stars."
      ]
    },
    {
      "cell_type": "markdown",
      "id": "vNwsa6zi9FP2",
      "metadata": {
        "id": "vNwsa6zi9FP2"
      },
      "source": [
        "## 1. Introduction\n",
        "\n",
        "### What is an Eclipsing Binary?\n",
        "An **eclipsing binary** is a system of two stars orbiting each other in such a way that, from our line of sight on Earth, one star periodically passes in front of the other. This passage causes a dip in the total observed brightness of the system. Studying these eclipses tells us a lot about the stars' properties, like their sizes, masses, and temperatures.\n",
        "\n",
        "### What is a Light Curve?\n",
        "A **light curve** is a graph that shows the brightness of an astronomical object over time. For an eclipsing binary, the light curve will show periodic dips in brightness corresponding to the eclipses. The shape and timing of these dips are crucial for analysis.\n",
        "\n",
        "### What is AstroImageJ (AIJ)?\n",
        "**AstroImageJ (AIJ)** is a powerful, free, Java-based image processing and analysis software specifically designed for astronomy. It's widely used for tasks like photometry (measuring brightness), image calibration, and creating light curves. You can download it from the official AIJ website: [https://www.astro.louisville.edu/software/astroimagej/](https://www.astro.louisville.edu/software/astroimagej/)\n",
        "\n",
        "### Goal of this Tutorial\n",
        "By the end of this tutorial, you will be able to:\n",
        "* Load a series of FITS images into AIJ.\n",
        "* Perform aperture photometry on your target eclipsing binary and suitable comparison stars.\n",
        "* Generate a raw light curve.\n",
        "* Normalize the light curve.\n",
        "* **Phase fold the light curve using a known period and epoch.**\n",
        "* Save your results.\n",
        "\n",
        "### Prerequisites\n",
        "* **AstroImageJ installed:** Ensure you have the latest version of AIJ installed on your computer.\n",
        "* **Java Development Kit (JDK):** AIJ requires Java. Make sure you have a compatible JDK installed (usually OpenJDK or Oracle JDK).\n",
        "* **FITS files:** You'll need a series of FITS (Flexible Image Transport System) files of an eclipsing binary. These are the raw data from your telescope observations.\n",
        "* **Known Ephemeris (for phase folding):** To phase fold the light curve, you'll need:\n",
        "    * The **orbital period (P)** of the binary system.\n",
        "    * A **reference time of an event (T0 or Epoch)**, usually the time of a specific primary minimum (e.g., in BJD_TDB)."
      ]
    },
    {
      "cell_type": "markdown",
      "id": "s52d0jIi9FP3",
      "metadata": {
        "id": "s52d0jIi9FP3"
      },
      "source": [
        "## 2. Setting up Your Workspace\n",
        "\n",
        "### Organizing Your FITS Files\n",
        "1.  **Create a dedicated folder** for your project (e.g., `MyEclipsingBinary_Project`).\n",
        "2.  Inside this project folder, create a subfolder named `fits_images` (or similar) and place all your FITS files for the eclipsing binary observation sequence there.\n",
        "3.  It's also good practice to create folders for `calibration_frames` (darks, flats, biases, if you have them and will calibrate) and `results` (where you'll save your light curves and data tables).\n",
        "\n",
        "### Launching AstroImageJ\n",
        "1.  Navigate to the directory where you installed AstroImageJ.\n",
        "2.  Launch AIJ. This is usually done by double-clicking the `AstroImageJ.jar` file or by running a platform-specific script (e.g., `AstroImageJ.exe` on Windows, or `AIJ_launcher_MacOS.sh` / `AIJ_launcher_Linux.sh`).\n",
        "\n",
        "### Memory Allocation in AIJ (Important!)\n",
        "AIJ can be memory-intensive, especially when working with many large FITS files.\n",
        "1.  Upon launching AIJ, you might see a startup configuration window, or you can access memory settings via **Edit > Options > Memory & Threads...**.\n",
        "2.  It's recommended to allocate a significant portion of your system's RAM to AIJ, but leave enough for your operating system and other applications. A common recommendation is 50-75% of your available RAM if you have 8GB or more.\n",
        "3.  For example, if you have 16GB of RAM, you might allocate 8000MB to 12000MB to AIJ.\n",
        "4.  You'll need to restart AIJ for memory changes to take effect."
      ]
    },
    {
      "cell_type": "markdown",
      "id": "ajcg9e-K9FP4",
      "metadata": {
        "id": "ajcg9e-K9FP4"
      },
      "source": [
        "## 3. Loading Your FITS Images\n",
        "\n",
        "1.  In AIJ, go to **File > Open...** to open a single FITS image, or (more likely for a time series) **File > Open Image Series > Open Series (User Selects Folder and Files)...** or **File > Open Image Series > Open All Images in Folder (recursive)...**.\n",
        "    * For this tutorial, let's assume you'll use **Open Series (User Selects Folder and Files)...**. Navigate to your `fits_images` folder and select all the FITS files for your observation run.\n",
        "2.  AIJ will load the images as a \"stack.\" The first image in the series will be displayed.\n",
        "3.  You can navigate through the stack using the slider bar at the bottom of the image window or by using the **Next Slice (`>`)** and **Previous Slice (`<`)** buttons/commands.\n",
        "\n",
        "### Basic Image Navigation and Display\n",
        "* **Zoom:** Use the magnifying glass tools or **Image > Zoom > In/Out**.\n",
        "* **Pan:** Select the hand tool and drag the image.\n",
        "* **Brightness/Contrast:** Go to **Image > Adjust > Brightness/Contrast... (B&C)**. Click \"Auto\" for a quick adjustment, or manually adjust the sliders to better see your stars. This only changes the display, not the underlying data values."
      ]
    },
    {
      "cell_type": "markdown",
      "id": "7P4UpXZH9FP5",
      "metadata": {
        "id": "7P4UpXZH9FP5"
      },
      "source": [
        "## 4. Image Calibration (A Brief Overview)\n",
        "\n",
        "Raw astronomical images contain instrumental signatures and noise that should ideally be removed for precise photometry. This process is called **image calibration** and typically involves:\n",
        "* **Bias subtraction:** Removing the baseline electronic signal present even in a zero-second exposure.\n",
        "* **Dark subtraction:** Removing the signal generated by thermal electrons in the detector, which depends on exposure time and temperature.\n",
        "* **Flat-fielding:** Correcting for variations in pixel sensitivity across the detector and for artifacts like dust donuts or vignetting.\n",
        "\n",
        "AIJ has built-in tools for calibration:\n",
        "1.  Go to **DP** (Data Processor) in the AIJ toolbar (it looks like a little calculator or a graph icon).\n",
        "2.  In the Data Processor window, click the **Calibrate Images** tab.\n",
        "3.  Here you can specify your master bias, dark, and flat frames.\n",
        "\n",
        "**For this tutorial:**\n",
        "* If you have been provided you with **pre-calibrated FITS files**, you can skip the active calibration steps. However, it's crucial to understand that this step *must* be done for accurate scientific results.\n",
        "* If you have raw data and calibration frames (bias, darks, flats), you should perform calibration before proceeding with photometry. Consult your mentor or AIJ documentation for detailed steps on creating master calibration frames and applying them.\n",
        "\n",
        "For now, we will proceed assuming your images are either calibrated or you're learning the photometry steps first with uncalibrated data (which will have more scatter but still show the eclipse)."
      ]
    },
    {
      "cell_type": "markdown",
      "id": "fSwSAKnk9FP5",
      "metadata": {
        "id": "fSwSAKnk9FP5"
      },
      "source": [
        "## 5. Plate Solving and WCS (World Coordinate System)\n",
        "\n",
        "**Plate solving** is the process of accurately determining the celestial coordinates (Right Ascension - RA, Declination - Dec) for the pixels in your image. This embeds a World Coordinate System (WCS) into the FITS header, which is incredibly useful for:\n",
        "* Identifying your target and comparison stars by their known coordinates.\n",
        "* Allowing AIJ to calculate airmass and other astronomically relevant parameters like BJD_TDB.\n",
        "* Enabling features like image alignment to an external catalog.\n",
        "\n",
        "**How to Plate Solve in AIJ:**\n",
        "1.  Make sure your image stack is loaded.\n",
        "2.  Go to **DP** (Data Processor).\n",
        "3.  Click the **WCS Plate Solve** tab.\n",
        "4.  You'll need to provide an initial guess for the image's center coordinates (RA and Dec) and the image scale (arcseconds per pixel). You can often find this information in the FITS header of your images or from your telescope/observatory logs.\n",
        "    * **RA/Dec Object:** Enter the name of your target (e.g., \"V123 Cygni\") and click \"Get Coords\" for AIJ to look it up (requires internet), or manually enter the J2000 RA and Dec.\n",
        "    * **Image Scale:** Enter your telescope's image scale in arcsec/pixel.\n",
        "    * **Search Radius:** How far AIJ should search from your initial guess.\n",
        "5.  Choose a catalog (e.g., \"All VizieR Stars\" or a specific catalog like Gaia).\n",
        "6.  Ensure **\"Update FITS header with WCS solution\"** and **\"Update DATE-OBS, TIME-OBS, and exposure time and enable BJD calculation\"** are checked for BJD_TDB calculation.\n",
        "7.  Click **Plate Solve Current Image** or **Plate Solve All Images in Stack**.\n",
        "\n",
        "**Verifying the Plate Solution:**\n",
        "* After a successful solve, AIJ will overlay catalog stars on your image. Check if they align well.\n",
        "* The FITS header will now contain WCS keywords. You can view the header via **Image > Show Info...** (then click FITS Header)."
      ]
    },
    {
      "cell_type": "markdown",
      "id": "f2VBssrM9FP6",
      "metadata": {
        "id": "f2VBssrM9FP6"
      },
      "source": [
        "## 6. Performing Aperture Photometry\n",
        "\n",
        "**Aperture photometry** is the technique of measuring the brightness of a star by summing the pixel values within a circular region (the aperture) centered on the star, and then subtracting the background sky brightness.\n",
        "\n",
        "1.  Open the **DP (Data Processor)** window.\n",
        "2.  Go to the **Aperture Photometry** tab.\n",
        "\n",
        "### Selecting Your Target and Comparison Stars\n",
        "* **Target Star (T1):** Your eclipsing binary. In the image display, **left-click** on its center.\n",
        "* **Comparison Stars (C2, C3, ...):** Select 2-5 stable, non-saturated stars of similar brightness if possible. **Left-click** on each.\n",
        "\n",
        "### Setting Aperture Sizes\n",
        "Apertures have three radii: Object, Inner Sky, Outer Sky.\n",
        "1.  **Measure FWHM:** Hover over a star or use AIJ tools to find the FWHM.\n",
        "2.  In the DP window's photometry settings:\n",
        "    * **Object Aperture Radius:** ~1.5 to 2.5 x FWHM.\n",
        "    * **Inner Sky Radius:** Object Radius + (3 to 5 pixels).\n",
        "    * **Outer Sky Radius:** Inner Sky Radius + (5 to 10 pixels).\n",
        "3.  Visualize and adjust. Ensure **\"Re-center apertures using stellar centroid\"** is checked."
      ]
    },
    {
      "cell_type": "markdown",
      "id": "crBu1Qsa9FP6",
      "metadata": {
        "id": "crBu1Qsa9FP6"
      },
      "source": [
        "## 7. Running the Photometry and Inspecting the Data Table\n",
        "\n",
        "1.  In the DP window, click **Place Apertures** or **Start Photometry**.\n",
        "2.  A **\"Measurements\" table** will be generated.\n",
        "\n",
        "### Understanding the \"Measurements\" Table\n",
        "Key columns:\n",
        "* **Frame, File_Name**\n",
        "* **JD_UTC** or **BJD_TDB:** (Barycentric Julian Date - preferred for timing accuracy). Make sure this is calculated; requires accurate FITS header times, observatory coordinates set in AIJ preferences, and WCS solution.\n",
        "* **AIRMASS**\n",
        "* **Source-Sky_T1, Source-Sky_C2, ...** (background-subtracted flux)\n",
        "* **rel_flux_T1:** (Relative flux of T1 - target flux / sum of comparison fluxes). This is crucial!\n",
        "* **rel_flux_err_T1:** Error in relative flux.\n",
        "\n",
        "To ensure BJD_TDB is calculated correctly:\n",
        "* Go to **File > Preferences > Telescope & Site**. Enter your observatory's latitude, longitude, and altitude.\n",
        "* Ensure FITS headers have correct `DATE-OBS` and `TIME-OBS` (or `UTSTART`).\n",
        "* WCS plate solving should have been successful."
      ]
    },
    {
      "cell_type": "markdown",
      "id": "EBxcCtEN9FP6",
      "metadata": {
        "id": "EBxcCtEN9FP6"
      },
      "source": [
        "## 8. Differential Photometry: Creating the Light Curve\n",
        "\n",
        "Differential photometry uses comparison stars to correct for atmospheric and instrumental effects. The `rel_flux_T1` column already represents this.\n",
        "\n",
        "**Plotting the Light Curve in AIJ:**\n",
        "1.  In the Measurements table window, click **Plot**.\n",
        "2.  In the **\"Plot Data\"** window:\n",
        "    * **X-axis:** Choose **BJD_TDB** (or JD_UTC if BJD_TDB is unavailable).\n",
        "    * **Y-axis:** Choose **rel_flux_T1**.\n",
        "3.  Click **Update Plot** or **Plot**.\n",
        "\n",
        "Inspect the initial light curve for eclipses, scatter, and outliers."
      ]
    },
    {
      "cell_type": "markdown",
      "id": "TiTLTcnt9FP7",
      "metadata": {
        "id": "TiTLTcnt9FP7"
      },
      "source": [
        "## 9. Normalizing the Light Curve\n",
        "\n",
        "**Normalization** scales the light curve so the out-of-eclipse brightness is typically 1.0.\n",
        "\n",
        "**Method 1: Using AIJ's Plotting Options**\n",
        "1.  In the **Plot Data** window, look for a Y-axis option like **\"Normalized rel_flux_T1\"** or a similar normalization checkbox/setting for the selected Y-axis data. This often normalizes by the median or mean of the series.\n",
        "\n",
        "**Method 2: Manual Normalization (for more control or if direct option is unclear)**\n",
        "1.  **Identify Out-of-Eclipse Data:** View your `rel_flux_T1` vs. Time plot. Identify data points representing the system's maximum, combined brightness (out of eclipse).\n",
        "2.  **Calculate Normalization Factor (`Flux_norm`):**\n",
        "    * Interactively select these points in the AIJ plot if it provides statistics for selections (mean/median).\n",
        "    * Or, export the Measurements table (Section 12) and calculate the mean or median of `rel_flux_T1` for these out-of-eclipse points externally.\n",
        "3.  **Apply Normalization:**\n",
        "    * **AIJ Custom Column:** If AIJ allows, create a new column (e.g., `norm_flux_T1_manual`) in the Measurements table: `rel_flux_T1 / Flux_norm` (where `Flux_norm` is your calculated value).\n",
        "    * **External Program:** Perform this division in your spreadsheet/script.\n",
        "4.  **Re-plot:** Plot your new normalized flux column against Time.\n",
        "\n",
        "The normalized light curve should have its out-of-eclipse level around 1.0."
      ]
    },
    {
      "cell_type": "markdown",
      "id": "pMEYERh59FP7",
      "metadata": {
        "id": "pMEYERh59FP7"
      },
      "source": [
        "## 10. Phase Folding Your Light Curve\n",
        "\n",
        "**Phase folding** takes your time-series data and wraps it according to a known periodic signal, like the orbit of an eclipsing binary. This overlays all observed cycles, improving the signal-to-noise ratio of the average light curve shape and making it easier to analyze the eclipse profiles.\n",
        "\n",
        "**Prerequisites for Phase Folding:**\n",
        "* **Orbital Period (P):** The precise orbital period of your eclipsing binary (e.g., in days). You'll need to get this from astronomical databases (like VSX, GCVS), published literature, or previous analysis of your data (e.g., periodogram analysis).\n",
        "* **Epoch (T0):** A specific time of reference, usually the time of a primary eclipse minimum (e.g., in BJD_TDB). This sets the zero point for your phase (Phase = 0.0 at primary minimum).\n",
        "* **Time Data:** Your time measurements, preferably in BJD_TDB, from the Measurements table.\n",
        "* **Flux Data:** Your (ideally normalized) relative flux data (e.g., `Normalized rel_flux_T1` or `norm_flux_T1_manual`).\n",
        "\n",
        "**Method 1: Phase Folding Directly in AIJ's Plotting Tool**\n",
        "\n",
        "AIJ's \"Plot Data\" or \"Multi-Plot Main\" window often has built-in capabilities for phase folding:\n",
        "1.  Open the **Plot Data** window with your Measurements table data.\n",
        "2.  **Y-axis:** Select your desired flux data (e.g., `Normalized rel_flux_T1` or your manually normalized column).\n",
        "3.  **X-axis:** Look for an option that says **\"Phase\"** or similar. If you select this, AIJ will usually enable fields for **Period (P)** and **Epoch (T0 or Zero Phase Epoch)**.\n",
        "    * Enter your known **Period (P)** value (e.g., `0.78534` days). Make sure the units match your time data (usually days for BJD_TDB).\n",
        "    * Enter your known **Epoch (T0)** value (e.g., `2458765.12345` BJD_TDB). This should be a time of primary minimum.\n",
        "4.  Ensure the correct time column (e.g., `BJD_TDB`) is selected or implicitly used by AIJ for the phase calculation if there's such an option.\n",
        "5.  Click **Update Plot** or **Plot**.\n",
        "\n",
        "AIJ will calculate the phase for each data point using a formula like: $$Phase = \\frac{Time - T0}{P} - \\text{floor}\\left(\\frac{Time - T0}{P}\\right)$$\n",
        "The plot should now show your flux data plotted against orbital phase (usually from 0 to 1, or sometimes -0.5 to 0.5 if a different T0 convention is used).\n",
        "\n",
        "**Method 2: Calculating Phase Manually (e.g., for external plotting or if AIJ option is not found)**\n",
        "\n",
        "If you prefer to calculate the phase yourself or if the direct AIJ option is tricky to find/use, you can add a phase column to your Measurements table (either within AIJ if it supports custom column formulas robustly, or after exporting the data):\n",
        "\n",
        "1.  **Obtain Period (P) and Epoch (T0):** For example, let $P = \\text{PERIOD_VALUE}$ days and $T0 = \\text{T0_VALUE}$ BJD_TDB.\n",
        "2.  **Export Data (if not doing in AIJ):** Save your Measurements table (including the BJD_TDB and normalized flux columns) as a CSV file.\n",
        "3.  **Calculate Phase:** In your preferred software (Python with Pandas, Excel, etc.), create a new column called \"Phase\". For each row with time $t_i$ (from your BJD_TDB column):\n",
        "    Calculate the number of cycles: $N_i = \\frac{t_i - T0}{P}$\n",
        "    Calculate the phase: $Phase_i = N_i - \\text{floor}(N_i)$\n",
        "    This ensures $Phase_i$ is always in the range [0, 1).\n",
        "    *In Python/Pandas, this would be something like: `df['Phase'] = ((df['BJD_TDB'] - T0) / P) % 1.0`*\n",
        "4.  **Plot:** Plot your normalized flux column against your new \"Phase\" column.\n",
        "\n",
        "**Interpreting the Phase-Folded Light Curve:**\n",
        "* **Phase 0.0 (and 1.0):** Should correspond to the primary eclipse (the deeper one, if T0 was set to a primary minimum).\n",
        "* **Phase 0.5:** Should correspond to the secondary eclipse (if present and observable).\n",
        "* The curve should show a well-defined shape, with reduced scatter compared to a single night's observation, as data from multiple orbital cycles are overlaid.\n",
        "* You can now clearly see the average depth, duration, and shape of the eclipses."
      ]
    },
    {
      "cell_type": "markdown",
      "id": "5ER-OYsL9FP7",
      "metadata": {
        "id": "5ER-OYsL9FP7"
      },
      "source": [
        "## 11. Refining and Detrending (Optional)\n",
        "\n",
        "Sometimes, even after differential photometry, your light curve might show residual trends. AIJ offers tools for detrending in the **Plot Data** window under a **\"Detrend\"** tab/section. You can fit and remove simple functions (linear, polynomial) from out-of-eclipse portions, often using parameters like Airmass.\n",
        "\n",
        "**Caution:** Detrending should be done carefully. It's generally best to apply detrending to the time-series data *before* phase folding if the trends are related to observing conditions of specific nights rather than an orbital phase-dependent phenomenon."
      ]
    },
    {
      "cell_type": "markdown",
      "id": "UR0c9R0l9FP7",
      "metadata": {
        "id": "UR0c9R0l9FP7"
      },
      "source": [
        "## 12. Saving Your Results\n",
        "\n",
        "### Saving the Measurements Table\n",
        "1.  In the Measurements table window, go to **File > Save Table As...**.\n",
        "2.  Choose **CSV** or **Tab-delimited Text File (.txt)**. Save it in your `results` folder.\n",
        "    *If you added a phase column manually outside AIJ, save that modified table.*\n",
        "\n",
        "### Saving the Light Curve Plot (Time Series and Phase-Folded)\n",
        "1.  In AIJ's **Plot Data** window:\n",
        "2.  Use **File > Save Plot As...** or **Right-click > Save As...**.\n",
        "3.  Save in **PNG** or **PDF** format in your `results` folder. Save both your time-series light curve and your phase-folded light curve.\n",
        "\n",
        "### Saving AIJ Session/Settings\n",
        "Look for options like **File > Save Photometry Settings...** in the DP window to save aperture settings etc."
      ]
    },
    {
      "cell_type": "markdown",
      "id": "lhBB45O19FP8",
      "metadata": {
        "id": "lhBB45O19FP8"
      },
      "source": [
        "## 13. Conclusion and Next Steps\n",
        "\n",
        "Congratulations! You've successfully loaded FITS images, performed aperture photometry, created a differential light curve, normalized it, phase-folded it, and saved your results using AstroImageJ.\n",
        "\n",
        "**Recap of what you learned:**\n",
        "* The importance of image calibration, WCS, and accurate time (BJD_TDB).\n",
        "* How to select target and comparison stars for photometry.\n",
        "* How to set appropriate aperture sizes.\n",
        "* The meaning of differential photometry and normalization.\n",
        "* **How to phase fold a light curve using a known period and epoch.**\n",
        "* The importance of saving your data table and plots.\n",
        "\n",
        "**Potential Next Steps:**\n",
        "* **Error Analysis:** Delve deeper into the photometric errors.\n",
        "* **Modeling the Light Curve:** Use your phase-folded, normalized light curve with software (like PHOEBE, JKTEBOP, or custom scripts) to model and derive physical parameters of the binary system (star radii, inclination, temperatures, etc.).\n",
        "* **Period Analysis:** If the period wasn't known precisely, you could use tools (e.g., periodograms in AIJ or Python) on your time-series data to determine it.\n",
        "* **Explore More AIJ Features:** AIJ is packed with many other tools.\n",
        "\n",
        "**Further Resources:**\n",
        "* **AstroImageJ User Guide:** The official AIJ website.\n",
        "* **AstroImageJ Forum/Mailing List.**\n"
      ]
    }
  ],
  "metadata": {
    "colab": {
      "provenance": []
    },
    "kernelspec": {
      "display_name": "Python 3",
      "language": "python",
      "name": "python3"
    },
    "language_info": {
      "codemirror_mode": {
        "name": "ipython",
        "version": 3
      },
      "file_extension": ".py",
      "mimetype": "text/x-python",
      "name": "python",
      "nbconvert_exporter": "python",
      "pygments_lexer": "ipython3",
      "version": "3.10.0"
    }
  },
  "nbformat": 4,
  "nbformat_minor": 5
}
